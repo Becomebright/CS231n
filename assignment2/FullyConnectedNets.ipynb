{
 "cells": [
  {
   "cell_type": "markdown",
   "metadata": {
    "tags": [
     "pdf-title"
    ]
   },
   "source": [
    "# Fully-Connected Neural Nets\n",
    "In the previous homework you implemented a fully-connected two-layer neural network on CIFAR-10. The implementation was simple but not very modular since the loss and gradient were computed in a single monolithic function. This is manageable for a simple two-layer network, but would become impractical as we move to bigger models. Ideally we want to build networks using a more modular design so that we can implement different layer types in isolation and then snap them together into models with different architectures."
   ]
  },
  {
   "cell_type": "markdown",
   "metadata": {
    "tags": [
     "pdf-ignore"
    ]
   },
   "source": [
    "In this exercise we will implement fully-connected networks using a more modular approach. For each layer we will implement a `forward` and a `backward` function. The `forward` function will receive inputs, weights, and other parameters and will return both an output and a `cache` object storing data needed for the backward pass, like this:\n",
    "\n",
    "```python\n",
    "def layer_forward(x, w):\n",
    "  \"\"\" Receive inputs x and weights w \"\"\"\n",
    "  # Do some computations ...\n",
    "  z = # ... some intermediate value\n",
    "  # Do some more computations ...\n",
    "  out = # the output\n",
    "   \n",
    "  cache = (x, w, z, out) # Values we need to compute gradients\n",
    "   \n",
    "  return out, cache\n",
    "```\n",
    "\n",
    "The backward pass will receive upstream derivatives and the `cache` object, and will return gradients with respect to the inputs and weights, like this:\n",
    "\n",
    "```python\n",
    "def layer_backward(dout, cache):\n",
    "  \"\"\"\n",
    "  Receive dout (derivative of loss with respect to outputs) and cache,\n",
    "  and compute derivative with respect to inputs.\n",
    "  \"\"\"\n",
    "  # Unpack cache values\n",
    "  x, w, z, out = cache\n",
    "  \n",
    "  # Use values in cache to compute derivatives\n",
    "  dx = # Derivative of loss with respect to x\n",
    "  dw = # Derivative of loss with respect to w\n",
    "  \n",
    "  return dx, dw\n",
    "```\n",
    "\n",
    "After implementing a bunch of layers this way, we will be able to easily combine them to build classifiers with different architectures.\n",
    "\n",
    "In addition to implementing fully-connected networks of arbitrary depth, we will also explore different update rules for optimization, and introduce Dropout as a regularizer and Batch/Layer Normalization as a tool to more efficiently optimize deep networks.\n",
    "  "
   ]
  },
  {
   "cell_type": "code",
   "execution_count": 1,
   "metadata": {
    "ExecuteTime": {
     "end_time": "2019-09-25T17:04:14.940947Z",
     "start_time": "2019-09-25T17:04:14.403174Z"
    },
    "tags": [
     "pdf-ignore"
    ]
   },
   "outputs": [],
   "source": [
    "# As usual, a bit of setup\n",
    "from __future__ import print_function\n",
    "import time\n",
    "import numpy as np\n",
    "import matplotlib.pyplot as plt\n",
    "from cs231n.classifiers.fc_net import *\n",
    "from cs231n.data_utils import get_CIFAR10_data\n",
    "from cs231n.gradient_check import eval_numerical_gradient, eval_numerical_gradient_array\n",
    "from cs231n.solver import Solver\n",
    "\n",
    "%matplotlib inline\n",
    "plt.rcParams['figure.figsize'] = (10.0, 8.0) # set default size of plots\n",
    "plt.rcParams['image.interpolation'] = 'nearest'\n",
    "plt.rcParams['image.cmap'] = 'gray'\n",
    "\n",
    "# for auto-reloading external modules\n",
    "# see http://stackoverflow.com/questions/1907993/autoreload-of-modules-in-ipython\n",
    "%load_ext autoreload\n",
    "%autoreload 2\n",
    "\n",
    "def rel_error(x, y):\n",
    "  \"\"\" returns relative error \"\"\"\n",
    "  return np.max(np.abs(x - y) / (np.maximum(1e-8, np.abs(x) + np.abs(y))))"
   ]
  },
  {
   "cell_type": "code",
   "execution_count": 2,
   "metadata": {
    "ExecuteTime": {
     "end_time": "2019-09-25T17:04:18.283169Z",
     "start_time": "2019-09-25T17:04:16.510573Z"
    },
    "tags": [
     "pdf-ignore"
    ]
   },
   "outputs": [
    {
     "name": "stdout",
     "output_type": "stream",
     "text": [
      "('X_train: ', (49000, 3, 32, 32))\n",
      "('y_train: ', (49000,))\n",
      "('X_val: ', (1000, 3, 32, 32))\n",
      "('y_val: ', (1000,))\n",
      "('X_test: ', (1000, 3, 32, 32))\n",
      "('y_test: ', (1000,))\n"
     ]
    }
   ],
   "source": [
    "# Load the (preprocessed) CIFAR10 data.\n",
    "\n",
    "data = get_CIFAR10_data()\n",
    "for k, v in list(data.items()):\n",
    "  print(('%s: ' % k, v.shape))"
   ]
  },
  {
   "cell_type": "markdown",
   "metadata": {},
   "source": [
    "# Affine layer: foward\n",
    "Open the file `cs231n/layers.py` and implement the `affine_forward` function.\n",
    "\n",
    "Once you are done you can test your implementaion by running the following:"
   ]
  },
  {
   "cell_type": "code",
   "execution_count": 29,
   "metadata": {
    "ExecuteTime": {
     "end_time": "2019-09-24T15:52:05.848949Z",
     "start_time": "2019-09-24T15:52:05.525813Z"
    }
   },
   "outputs": [
    {
     "name": "stdout",
     "output_type": "stream",
     "text": [
      "(2, 4, 5, 6)\n",
      "Testing affine_forward function:\n",
      "difference:  9.769847728806635e-10\n"
     ]
    }
   ],
   "source": [
    "# Test the affine_forward function\n",
    "\n",
    "num_inputs = 2\n",
    "input_shape = (4, 5, 6)\n",
    "output_dim = 3\n",
    "\n",
    "input_size = num_inputs * np.prod(input_shape)\n",
    "weight_size = output_dim * np.prod(input_shape)\n",
    "\n",
    "x = np.linspace(-0.1, 0.5, num=input_size).reshape(num_inputs, *input_shape)\n",
    "w = np.linspace(-0.2, 0.3, num=weight_size).reshape(np.prod(input_shape), output_dim)\n",
    "b = np.linspace(-0.3, 0.1, num=output_dim)\n",
    "\n",
    "out, _ = affine_forward(x, w, b)\n",
    "correct_out = np.array([[ 1.49834967,  1.70660132,  1.91485297],\n",
    "                        [ 3.25553199,  3.5141327,   3.77273342]])\n",
    "\n",
    "# Compare your output with ours. The error should be around e-9 or less.\n",
    "print('Testing affine_forward function:')\n",
    "print('difference: ', rel_error(out, correct_out))"
   ]
  },
  {
   "cell_type": "markdown",
   "metadata": {},
   "source": [
    "# Affine layer: backward\n",
    "Now implement the `affine_backward` function and test your implementation using numeric gradient checking."
   ]
  },
  {
   "cell_type": "code",
   "execution_count": 30,
   "metadata": {
    "ExecuteTime": {
     "end_time": "2019-09-24T15:52:36.320135Z",
     "start_time": "2019-09-24T15:52:36.045870Z"
    }
   },
   "outputs": [
    {
     "name": "stdout",
     "output_type": "stream",
     "text": [
      "Testing affine_backward function:\n",
      "dx error:  5.399100368651805e-11\n",
      "dw error:  9.904211865398145e-11\n",
      "db error:  2.4122867568119087e-11\n"
     ]
    }
   ],
   "source": [
    "# Test the affine_backward function\n",
    "np.random.seed(231)\n",
    "x = np.random.randn(10, 2, 3)\n",
    "w = np.random.randn(6, 5)\n",
    "b = np.random.randn(5)\n",
    "dout = np.random.randn(10, 5)\n",
    "\n",
    "dx_num = eval_numerical_gradient_array(lambda x: affine_forward(x, w, b)[0], x, dout)\n",
    "dw_num = eval_numerical_gradient_array(lambda w: affine_forward(x, w, b)[0], w, dout)\n",
    "db_num = eval_numerical_gradient_array(lambda b: affine_forward(x, w, b)[0], b, dout)\n",
    "\n",
    "_, cache = affine_forward(x, w, b)\n",
    "dx, dw, db = affine_backward(dout, cache)\n",
    "\n",
    "# The error should be around e-10 or less\n",
    "print('Testing affine_backward function:')\n",
    "print('dx error: ', rel_error(dx_num, dx))\n",
    "print('dw error: ', rel_error(dw_num, dw))\n",
    "print('db error: ', rel_error(db_num, db))"
   ]
  },
  {
   "cell_type": "markdown",
   "metadata": {},
   "source": [
    "# ReLU activation: forward\n",
    "Implement the forward pass for the ReLU activation function in the `relu_forward` function and test your implementation using the following:"
   ]
  },
  {
   "cell_type": "code",
   "execution_count": 31,
   "metadata": {
    "ExecuteTime": {
     "end_time": "2019-09-24T15:52:38.891576Z",
     "start_time": "2019-09-24T15:52:38.660197Z"
    }
   },
   "outputs": [
    {
     "name": "stdout",
     "output_type": "stream",
     "text": [
      "Testing relu_forward function:\n",
      "difference:  4.999999798022158e-08\n"
     ]
    }
   ],
   "source": [
    "# Test the relu_forward function\n",
    "\n",
    "x = np.linspace(-0.5, 0.5, num=12).reshape(3, 4)\n",
    "\n",
    "out, _ = relu_forward(x)\n",
    "correct_out = np.array([[ 0.,          0.,          0.,          0.,        ],\n",
    "                        [ 0.,          0.,          0.04545455,  0.13636364,],\n",
    "                        [ 0.22727273,  0.31818182,  0.40909091,  0.5,       ]])\n",
    "\n",
    "# Compare your output with ours. The error should be on the order of e-8\n",
    "print('Testing relu_forward function:')\n",
    "print('difference: ', rel_error(out, correct_out))"
   ]
  },
  {
   "cell_type": "markdown",
   "metadata": {},
   "source": [
    "# ReLU activation: backward\n",
    "Now implement the backward pass for the ReLU activation function in the `relu_backward` function and test your implementation using numeric gradient checking:"
   ]
  },
  {
   "cell_type": "code",
   "execution_count": 32,
   "metadata": {
    "ExecuteTime": {
     "end_time": "2019-09-24T15:52:41.241009Z",
     "start_time": "2019-09-24T15:52:41.003680Z"
    }
   },
   "outputs": [
    {
     "name": "stdout",
     "output_type": "stream",
     "text": [
      "Testing relu_backward function:\n",
      "dx error:  3.2756349136310288e-12\n"
     ]
    }
   ],
   "source": [
    "np.random.seed(231)\n",
    "x = np.random.randn(10, 10)\n",
    "dout = np.random.randn(*x.shape)\n",
    "\n",
    "dx_num = eval_numerical_gradient_array(lambda x: relu_forward(x)[0], x, dout)\n",
    "\n",
    "_, cache = relu_forward(x)\n",
    "dx = relu_backward(dout, cache)\n",
    "\n",
    "# The error should be on the order of e-12\n",
    "print('Testing relu_backward function:')\n",
    "print('dx error: ', rel_error(dx_num, dx))"
   ]
  },
  {
   "cell_type": "markdown",
   "metadata": {
    "tags": [
     "pdf-inline"
    ]
   },
   "source": [
    "## Inline Question 1: \n",
    "\n",
    "We've only asked you to implement ReLU, but there are a number of different activation functions that one could use in neural networks, each with its pros and cons. In particular, an issue commonly seen with activation functions is getting zero (or close to zero) gradient flow during backpropagation. Which of the following activation functions have this problem? If you consider these functions in the one dimensional case, what types of input would lead to this behaviour?\n",
    "1. Sigmoid\n",
    "2. ReLU\n",
    "3. Leaky ReLU\n",
    "\n",
    "## Answer:\n",
    "[FILL THIS IN]\n"
   ]
  },
  {
   "cell_type": "markdown",
   "metadata": {},
   "source": [
    "# \"Sandwich\" layers\n",
    "There are some common patterns of layers that are frequently used in neural nets. For example, affine layers are frequently followed by a ReLU nonlinearity. To make these common patterns easy, we define several convenience layers in the file `cs231n/layer_utils.py`.\n",
    "\n",
    "For now take a look at the `affine_relu_forward` and `affine_relu_backward` functions, and run the following to numerically gradient check the backward pass:"
   ]
  },
  {
   "cell_type": "code",
   "execution_count": 69,
   "metadata": {
    "ExecuteTime": {
     "end_time": "2019-09-24T13:13:25.963120Z",
     "start_time": "2019-09-24T13:13:25.653948Z"
    }
   },
   "outputs": [
    {
     "name": "stdout",
     "output_type": "stream",
     "text": [
      "Testing affine_relu_forward and affine_relu_backward:\n",
      "dx error:  6.750562121603446e-11\n",
      "dw error:  8.162015570444288e-11\n",
      "db error:  7.826724021458994e-12\n"
     ]
    }
   ],
   "source": [
    "from cs231n.layer_utils import affine_relu_forward, affine_relu_backward\n",
    "np.random.seed(231)\n",
    "x = np.random.randn(2, 3, 4)\n",
    "w = np.random.randn(12, 10)\n",
    "b = np.random.randn(10)\n",
    "dout = np.random.randn(2, 10)\n",
    "\n",
    "out, cache = affine_relu_forward(x, w, b)\n",
    "dx, dw, db = affine_relu_backward(dout, cache)\n",
    "\n",
    "dx_num = eval_numerical_gradient_array(lambda x: affine_relu_forward(x, w, b)[0], x, dout)\n",
    "dw_num = eval_numerical_gradient_array(lambda w: affine_relu_forward(x, w, b)[0], w, dout)\n",
    "db_num = eval_numerical_gradient_array(lambda b: affine_relu_forward(x, w, b)[0], b, dout)\n",
    "\n",
    "# Relative error should be around e-10 or less\n",
    "print('Testing affine_relu_forward and affine_relu_backward:')\n",
    "print('dx error: ', rel_error(dx_num, dx))\n",
    "print('dw error: ', rel_error(dw_num, dw))\n",
    "print('db error: ', rel_error(db_num, db))"
   ]
  },
  {
   "cell_type": "markdown",
   "metadata": {},
   "source": [
    "# Loss layers: Softmax and SVM\n",
    "You implemented these loss functions in the last assignment, so we'll give them to you for free here. You should still make sure you understand how they work by looking at the implementations in `cs231n/layers.py`.\n",
    "\n",
    "You can make sure that the implementations are correct by running the following:"
   ]
  },
  {
   "cell_type": "code",
   "execution_count": 68,
   "metadata": {
    "ExecuteTime": {
     "end_time": "2019-09-24T13:13:02.694081Z",
     "start_time": "2019-09-24T13:13:02.182449Z"
    }
   },
   "outputs": [
    {
     "name": "stdout",
     "output_type": "stream",
     "text": [
      "Testing svm_loss:\n",
      "loss:  8.999602749096233\n",
      "dx error:  1.4021566006651672e-09\n",
      "\n",
      "Testing softmax_loss:\n",
      "loss:  2.302545844500738\n",
      "dx error:  9.384673161989355e-09\n"
     ]
    }
   ],
   "source": [
    "np.random.seed(231)\n",
    "num_classes, num_inputs = 10, 50\n",
    "x = 0.001 * np.random.randn(num_inputs, num_classes)\n",
    "y = np.random.randint(num_classes, size=num_inputs)\n",
    "\n",
    "dx_num = eval_numerical_gradient(lambda x: svm_loss(x, y)[0], x, verbose=False)\n",
    "loss, dx = svm_loss(x, y)\n",
    "\n",
    "# Test svm_loss function. Loss should be around 9 and dx error should be around the order of e-9\n",
    "print('Testing svm_loss:')\n",
    "print('loss: ', loss)\n",
    "print('dx error: ', rel_error(dx_num, dx))\n",
    "\n",
    "dx_num = eval_numerical_gradient(lambda x: softmax_loss(x, y)[0], x, verbose=False)\n",
    "loss, dx = softmax_loss(x, y)\n",
    "# print(np.sum(dx))\n",
    "\n",
    "# Test softmax_loss function. Loss should be close to 2.3 and dx error should be around e-8\n",
    "print('\\nTesting softmax_loss:')\n",
    "print('loss: ', loss)\n",
    "print('dx error: ', rel_error(dx_num, dx))"
   ]
  },
  {
   "cell_type": "markdown",
   "metadata": {},
   "source": [
    "# Two-layer network\n",
    "In the previous assignment you implemented a two-layer neural network in a single monolithic class. Now that you have implemented modular versions of the necessary layers, you will reimplement the two layer network using these modular implementations.\n",
    "\n",
    "Open the file `cs231n/classifiers/fc_net.py` and complete the implementation of the `TwoLayerNet` class. This class will serve as a model for the other networks you will implement in this assignment, so read through it to make sure you understand the API. You can run the cell below to test your implementation."
   ]
  },
  {
   "cell_type": "code",
   "execution_count": 18,
   "metadata": {
    "ExecuteTime": {
     "end_time": "2019-09-24T15:39:07.925037Z",
     "start_time": "2019-09-24T15:39:07.142133Z"
    }
   },
   "outputs": [
    {
     "name": "stdout",
     "output_type": "stream",
     "text": [
      "Testing initialization ... \n",
      "Testing test-time forward pass ... \n",
      "Testing training loss (no regularization)\n",
      "Running numeric gradient check with reg =  0.0\n",
      "W1 relative error: 1.52e-08\n",
      "W2 relative error: 3.48e-10\n",
      "b1 relative error: 6.55e-09\n",
      "b2 relative error: 4.33e-10\n",
      "Running numeric gradient check with reg =  0.7\n",
      "W1 relative error: 8.18e-07\n",
      "W2 relative error: 2.85e-08\n",
      "b1 relative error: 1.09e-09\n",
      "b2 relative error: 7.76e-10\n"
     ]
    }
   ],
   "source": [
    "np.random.seed(231)\n",
    "N, D, H, C = 3, 5, 50, 7\n",
    "X = np.random.randn(N, D)\n",
    "y = np.random.randint(C, size=N)\n",
    "\n",
    "std = 1e-3\n",
    "model = TwoLayerNet(input_dim=D, hidden_dim=H, num_classes=C, weight_scale=std)\n",
    "\n",
    "print('Testing initialization ... ')\n",
    "W1_std = abs(model.params['W1'].std() - std)\n",
    "b1 = model.params['b1']\n",
    "W2_std = abs(model.params['W2'].std() - std)\n",
    "b2 = model.params['b2']\n",
    "assert W1_std < std / 10, 'First layer weights do not seem right'\n",
    "assert np.all(b1 == 0), 'First layer biases do not seem right'\n",
    "assert W2_std < std / 10, 'Second layer weights do not seem right'\n",
    "assert np.all(b2 == 0), 'Second layer biases do not seem right'\n",
    "\n",
    "print('Testing test-time forward pass ... ')\n",
    "model.params['W1'] = np.linspace(-0.7, 0.3, num=D*H).reshape(D, H)\n",
    "model.params['b1'] = np.linspace(-0.1, 0.9, num=H)\n",
    "model.params['W2'] = np.linspace(-0.3, 0.4, num=H*C).reshape(H, C)\n",
    "model.params['b2'] = np.linspace(-0.9, 0.1, num=C)\n",
    "X = np.linspace(-5.5, 4.5, num=N*D).reshape(D, N).T\n",
    "scores = model.loss(X)\n",
    "correct_scores = np.asarray(\n",
    "  [[11.53165108,  12.2917344,   13.05181771,  13.81190102,  14.57198434, 15.33206765,  16.09215096],\n",
    "   [12.05769098,  12.74614105,  13.43459113,  14.1230412,   14.81149128, 15.49994135,  16.18839143],\n",
    "   [12.58373087,  13.20054771,  13.81736455,  14.43418138,  15.05099822, 15.66781506,  16.2846319 ]])\n",
    "scores_diff = np.abs(scores - correct_scores).sum()\n",
    "assert scores_diff < 1e-6, 'Problem with test-time forward pass'\n",
    "\n",
    "print('Testing training loss (no regularization)')\n",
    "y = np.asarray([0, 5, 1])\n",
    "loss, grads = model.loss(X, y)\n",
    "correct_loss = 3.4702243556\n",
    "assert abs(loss - correct_loss) < 1e-10, 'Problem with training-time loss'\n",
    "\n",
    "model.reg = 1.0\n",
    "loss, grads = model.loss(X, y)\n",
    "correct_loss = 26.5948426952\n",
    "# print(loss)\n",
    "assert abs(loss - correct_loss) < 1e-10, 'Problem with regularization loss'\n",
    "\n",
    "# Errors should be around e-7 or less\n",
    "for reg in [0.0, 0.7]:\n",
    "  print('Running numeric gradient check with reg = ', reg)\n",
    "  model.reg = reg\n",
    "  loss, grads = model.loss(X, y)\n",
    "\n",
    "  for name in sorted(grads):\n",
    "    f = lambda _: model.loss(X, y)[0]\n",
    "    grad_num = eval_numerical_gradient(f, model.params[name], verbose=False)\n",
    "    print('%s relative error: %.2e' % (name, rel_error(grad_num, grads[name])))"
   ]
  },
  {
   "cell_type": "markdown",
   "metadata": {},
   "source": [
    "# Solver\n",
    "In the previous assignment, the logic for training models was coupled to the models themselves. Following a more modular design, for this assignment we have split the logic for training models into a separate class.\n",
    "\n",
    "Open the file `cs231n/solver.py` and read through it to familiarize yourself with the API. After doing so, use a `Solver` instance to train a `TwoLayerNet` that achieves at least `50%` accuracy on the validation set."
   ]
  },
  {
   "cell_type": "code",
   "execution_count": 39,
   "metadata": {
    "ExecuteTime": {
     "end_time": "2019-09-24T15:58:57.924192Z",
     "start_time": "2019-09-24T15:57:21.289707Z"
    }
   },
   "outputs": [
    {
     "name": "stdout",
     "output_type": "stream",
     "text": [
      "(Iteration 1 / 1960) loss: 2.299397\n",
      "(Epoch 0 / 4) train acc: 0.111000; val_acc: 0.093000\n",
      "(Iteration 11 / 1960) loss: 2.281040\n",
      "(Iteration 21 / 1960) loss: 2.270336\n",
      "(Iteration 31 / 1960) loss: 2.249226\n",
      "(Iteration 41 / 1960) loss: 2.232622\n",
      "(Iteration 51 / 1960) loss: 2.214968\n",
      "(Iteration 61 / 1960) loss: 2.262076\n",
      "(Iteration 71 / 1960) loss: 2.161546\n",
      "(Iteration 81 / 1960) loss: 2.173775\n",
      "(Iteration 91 / 1960) loss: 2.140324\n",
      "(Iteration 101 / 1960) loss: 2.061558\n",
      "(Iteration 111 / 1960) loss: 2.155819\n",
      "(Iteration 121 / 1960) loss: 2.139038\n",
      "(Iteration 131 / 1960) loss: 2.091769\n",
      "(Iteration 141 / 1960) loss: 2.109159\n",
      "(Iteration 151 / 1960) loss: 2.124803\n",
      "(Iteration 161 / 1960) loss: 2.082878\n",
      "(Iteration 171 / 1960) loss: 2.022463\n",
      "(Iteration 181 / 1960) loss: 2.131579\n",
      "(Iteration 191 / 1960) loss: 2.005724\n",
      "(Iteration 201 / 1960) loss: 2.012527\n",
      "(Iteration 211 / 1960) loss: 2.004110\n",
      "(Iteration 221 / 1960) loss: 1.994692\n",
      "(Iteration 231 / 1960) loss: 1.973366\n",
      "(Iteration 241 / 1960) loss: 1.942244\n",
      "(Iteration 251 / 1960) loss: 1.989046\n",
      "(Iteration 261 / 1960) loss: 2.089880\n",
      "(Iteration 271 / 1960) loss: 1.986123\n",
      "(Iteration 281 / 1960) loss: 1.999094\n",
      "(Iteration 291 / 1960) loss: 1.963810\n",
      "(Iteration 301 / 1960) loss: 1.823615\n",
      "(Iteration 311 / 1960) loss: 2.011841\n",
      "(Iteration 321 / 1960) loss: 1.912293\n",
      "(Iteration 331 / 1960) loss: 1.952035\n",
      "(Iteration 341 / 1960) loss: 1.965711\n",
      "(Iteration 351 / 1960) loss: 1.951833\n",
      "(Iteration 361 / 1960) loss: 1.934436\n",
      "(Iteration 371 / 1960) loss: 1.836637\n",
      "(Iteration 381 / 1960) loss: 1.853885\n",
      "(Iteration 391 / 1960) loss: 1.954214\n",
      "(Iteration 401 / 1960) loss: 2.004655\n",
      "(Iteration 411 / 1960) loss: 1.816388\n",
      "(Iteration 421 / 1960) loss: 1.897517\n",
      "(Iteration 431 / 1960) loss: 1.849994\n",
      "(Iteration 441 / 1960) loss: 1.941767\n",
      "(Iteration 451 / 1960) loss: 1.858386\n",
      "(Iteration 461 / 1960) loss: 1.814367\n",
      "(Iteration 471 / 1960) loss: 1.942445\n",
      "(Iteration 481 / 1960) loss: 1.962830\n",
      "(Epoch 1 / 4) train acc: 0.359000; val_acc: 0.355000\n",
      "(Iteration 491 / 1960) loss: 1.803554\n",
      "(Iteration 501 / 1960) loss: 1.840925\n",
      "(Iteration 511 / 1960) loss: 1.878315\n",
      "(Iteration 521 / 1960) loss: 1.899396\n",
      "(Iteration 531 / 1960) loss: 1.879598\n",
      "(Iteration 541 / 1960) loss: 1.901843\n",
      "(Iteration 551 / 1960) loss: 1.652310\n",
      "(Iteration 561 / 1960) loss: 1.855880\n",
      "(Iteration 571 / 1960) loss: 1.834954\n",
      "(Iteration 581 / 1960) loss: 1.732263\n",
      "(Iteration 591 / 1960) loss: 1.746648\n",
      "(Iteration 601 / 1960) loss: 1.861443\n",
      "(Iteration 611 / 1960) loss: 1.853191\n",
      "(Iteration 621 / 1960) loss: 1.742162\n",
      "(Iteration 631 / 1960) loss: 1.797720\n",
      "(Iteration 641 / 1960) loss: 1.774436\n",
      "(Iteration 651 / 1960) loss: 1.706385\n",
      "(Iteration 661 / 1960) loss: 1.805634\n",
      "(Iteration 671 / 1960) loss: 1.802117\n",
      "(Iteration 681 / 1960) loss: 1.733473\n",
      "(Iteration 691 / 1960) loss: 1.816215\n",
      "(Iteration 701 / 1960) loss: 1.828095\n",
      "(Iteration 711 / 1960) loss: 1.697913\n",
      "(Iteration 721 / 1960) loss: 1.744353\n",
      "(Iteration 731 / 1960) loss: 1.757287\n",
      "(Iteration 741 / 1960) loss: 1.779252\n",
      "(Iteration 751 / 1960) loss: 1.794192\n",
      "(Iteration 761 / 1960) loss: 1.890642\n",
      "(Iteration 771 / 1960) loss: 1.782758\n",
      "(Iteration 781 / 1960) loss: 1.621280\n",
      "(Iteration 791 / 1960) loss: 1.844310\n",
      "(Iteration 801 / 1960) loss: 1.703090\n",
      "(Iteration 811 / 1960) loss: 1.768069\n",
      "(Iteration 821 / 1960) loss: 1.808384\n",
      "(Iteration 831 / 1960) loss: 1.774150\n",
      "(Iteration 841 / 1960) loss: 1.725841\n",
      "(Iteration 851 / 1960) loss: 1.723265\n",
      "(Iteration 861 / 1960) loss: 1.774893\n",
      "(Iteration 871 / 1960) loss: 1.879732\n",
      "(Iteration 881 / 1960) loss: 1.663645\n",
      "(Iteration 891 / 1960) loss: 1.749221\n",
      "(Iteration 901 / 1960) loss: 1.629023\n",
      "(Iteration 911 / 1960) loss: 1.613363\n",
      "(Iteration 921 / 1960) loss: 1.573704\n",
      "(Iteration 931 / 1960) loss: 1.772777\n",
      "(Iteration 941 / 1960) loss: 1.862741\n",
      "(Iteration 951 / 1960) loss: 1.779651\n",
      "(Iteration 961 / 1960) loss: 1.772463\n",
      "(Iteration 971 / 1960) loss: 1.783977\n",
      "(Epoch 2 / 4) train acc: 0.424000; val_acc: 0.401000\n",
      "(Iteration 981 / 1960) loss: 1.616085\n",
      "(Iteration 991 / 1960) loss: 1.719200\n",
      "(Iteration 1001 / 1960) loss: 1.640118\n",
      "(Iteration 1011 / 1960) loss: 1.766768\n",
      "(Iteration 1021 / 1960) loss: 1.756157\n",
      "(Iteration 1031 / 1960) loss: 1.794214\n",
      "(Iteration 1041 / 1960) loss: 1.720215\n",
      "(Iteration 1051 / 1960) loss: 1.751157\n",
      "(Iteration 1061 / 1960) loss: 1.652536\n",
      "(Iteration 1071 / 1960) loss: 1.735243\n",
      "(Iteration 1081 / 1960) loss: 1.605391\n",
      "(Iteration 1091 / 1960) loss: 1.693324\n",
      "(Iteration 1101 / 1960) loss: 1.614076\n",
      "(Iteration 1111 / 1960) loss: 1.645010\n",
      "(Iteration 1121 / 1960) loss: 1.662787\n",
      "(Iteration 1131 / 1960) loss: 1.779965\n",
      "(Iteration 1141 / 1960) loss: 1.540722\n",
      "(Iteration 1151 / 1960) loss: 1.474810\n",
      "(Iteration 1161 / 1960) loss: 1.677856\n",
      "(Iteration 1171 / 1960) loss: 1.700666\n",
      "(Iteration 1181 / 1960) loss: 1.700671\n",
      "(Iteration 1191 / 1960) loss: 1.700051\n",
      "(Iteration 1201 / 1960) loss: 1.662832\n",
      "(Iteration 1211 / 1960) loss: 1.688046\n",
      "(Iteration 1221 / 1960) loss: 1.564641\n",
      "(Iteration 1231 / 1960) loss: 1.758838\n",
      "(Iteration 1241 / 1960) loss: 1.626460\n",
      "(Iteration 1251 / 1960) loss: 1.662165\n",
      "(Iteration 1261 / 1960) loss: 1.567974\n",
      "(Iteration 1271 / 1960) loss: 1.449817\n",
      "(Iteration 1281 / 1960) loss: 1.659235\n",
      "(Iteration 1291 / 1960) loss: 1.770806\n",
      "(Iteration 1301 / 1960) loss: 1.779517\n",
      "(Iteration 1311 / 1960) loss: 1.676787\n",
      "(Iteration 1321 / 1960) loss: 1.713644\n",
      "(Iteration 1331 / 1960) loss: 1.576041\n",
      "(Iteration 1341 / 1960) loss: 1.728101\n",
      "(Iteration 1351 / 1960) loss: 1.544456\n",
      "(Iteration 1361 / 1960) loss: 1.576087\n",
      "(Iteration 1371 / 1960) loss: 1.691255\n",
      "(Iteration 1381 / 1960) loss: 1.643053\n",
      "(Iteration 1391 / 1960) loss: 1.659368\n",
      "(Iteration 1401 / 1960) loss: 1.617891\n",
      "(Iteration 1411 / 1960) loss: 1.675528\n",
      "(Iteration 1421 / 1960) loss: 1.770677\n",
      "(Iteration 1431 / 1960) loss: 1.886377\n",
      "(Iteration 1441 / 1960) loss: 1.785962\n",
      "(Iteration 1451 / 1960) loss: 1.629263\n",
      "(Iteration 1461 / 1960) loss: 1.520875\n",
      "(Epoch 3 / 4) train acc: 0.467000; val_acc: 0.433000\n",
      "(Iteration 1471 / 1960) loss: 1.589093\n",
      "(Iteration 1481 / 1960) loss: 1.763375\n",
      "(Iteration 1491 / 1960) loss: 1.704016\n",
      "(Iteration 1501 / 1960) loss: 1.780566\n",
      "(Iteration 1511 / 1960) loss: 1.602862\n",
      "(Iteration 1521 / 1960) loss: 1.582207\n",
      "(Iteration 1531 / 1960) loss: 1.481414\n",
      "(Iteration 1541 / 1960) loss: 1.654949\n",
      "(Iteration 1551 / 1960) loss: 1.464659\n",
      "(Iteration 1561 / 1960) loss: 1.391301\n",
      "(Iteration 1571 / 1960) loss: 1.639222\n",
      "(Iteration 1581 / 1960) loss: 1.618506\n",
      "(Iteration 1591 / 1960) loss: 1.585122\n",
      "(Iteration 1601 / 1960) loss: 1.382023\n",
      "(Iteration 1611 / 1960) loss: 1.580039\n",
      "(Iteration 1621 / 1960) loss: 1.592330\n",
      "(Iteration 1631 / 1960) loss: 1.683585\n",
      "(Iteration 1641 / 1960) loss: 1.617820\n",
      "(Iteration 1651 / 1960) loss: 1.749537\n",
      "(Iteration 1661 / 1960) loss: 1.726305\n",
      "(Iteration 1671 / 1960) loss: 1.586692\n",
      "(Iteration 1681 / 1960) loss: 1.635284\n",
      "(Iteration 1691 / 1960) loss: 1.550355\n",
      "(Iteration 1701 / 1960) loss: 1.558327\n",
      "(Iteration 1711 / 1960) loss: 1.504362\n",
      "(Iteration 1721 / 1960) loss: 1.591361\n",
      "(Iteration 1731 / 1960) loss: 1.514011\n",
      "(Iteration 1741 / 1960) loss: 1.538682\n",
      "(Iteration 1751 / 1960) loss: 1.629696\n",
      "(Iteration 1761 / 1960) loss: 1.658064\n",
      "(Iteration 1771 / 1960) loss: 1.695144\n",
      "(Iteration 1781 / 1960) loss: 1.514249\n",
      "(Iteration 1791 / 1960) loss: 1.590648\n",
      "(Iteration 1801 / 1960) loss: 1.439063\n",
      "(Iteration 1811 / 1960) loss: 1.417728\n",
      "(Iteration 1821 / 1960) loss: 1.575575\n",
      "(Iteration 1831 / 1960) loss: 1.521047\n",
      "(Iteration 1841 / 1960) loss: 1.479278\n",
      "(Iteration 1851 / 1960) loss: 1.729141\n",
      "(Iteration 1861 / 1960) loss: 1.568273\n",
      "(Iteration 1871 / 1960) loss: 1.549306\n",
      "(Iteration 1881 / 1960) loss: 1.623995\n",
      "(Iteration 1891 / 1960) loss: 1.580444\n",
      "(Iteration 1901 / 1960) loss: 1.412924\n",
      "(Iteration 1911 / 1960) loss: 1.609292\n",
      "(Iteration 1921 / 1960) loss: 1.619714\n",
      "(Iteration 1931 / 1960) loss: 1.588221\n",
      "(Iteration 1941 / 1960) loss: 1.658125\n",
      "(Iteration 1951 / 1960) loss: 1.623185\n",
      "(Epoch 4 / 4) train acc: 0.418000; val_acc: 0.449000\n"
     ]
    }
   ],
   "source": [
    "\n",
    "model = TwoLayerNet(hidden_dim=200)\n",
    "solver = Solver(model, data, num_epochs=4, optim_config={'learning_rate': 5e-4})\n",
    "\n",
    "##############################################################################\n",
    "# TODO: Use a Solver instance to train a TwoLayerNet that achieves at least  #\n",
    "# 50% accuracy on the validation set.                                        #\n",
    "##############################################################################\n",
    "# *****START OF YOUR CODE (DO NOT DELETE/MODIFY THIS LINE)*****\n",
    "\n",
    "solver.train()\n",
    "\n",
    "# *****END OF YOUR CODE (DO NOT DELETE/MODIFY THIS LINE)*****\n",
    "##############################################################################\n",
    "#                             END OF YOUR CODE                               #\n",
    "##############################################################################"
   ]
  },
  {
   "cell_type": "code",
   "execution_count": 40,
   "metadata": {
    "ExecuteTime": {
     "end_time": "2019-09-24T15:59:52.675591Z",
     "start_time": "2019-09-24T15:59:51.962531Z"
    }
   },
   "outputs": [
    {
     "data": {
      "image/png": "[encoded data removed]",
      "text/plain": [
       "<Figure size 1080x864 with 2 Axes>"
      ]
     },
     "metadata": {
      "needs_background": "light"
     },
     "output_type": "display_data"
    }
   ],
   "source": [
    "# Run this cell to visualize training loss and train / val accuracy\n",
    "\n",
    "plt.subplot(2, 1, 1)\n",
    "plt.title('Training loss')\n",
    "plt.plot(solver.loss_history, 'o')\n",
    "plt.xlabel('Iteration')\n",
    "\n",
    "plt.subplot(2, 1, 2)\n",
    "plt.title('Accuracy')\n",
    "plt.plot(solver.train_acc_history, '-o', label='train')\n",
    "plt.plot(solver.val_acc_history, '-o', label='val')\n",
    "plt.plot([0.5] * len(solver.val_acc_history), 'k--')\n",
    "plt.xlabel('Epoch')\n",
    "plt.legend(loc='lower right')\n",
    "plt.gcf().set_size_inches(15, 12)\n",
    "plt.show()"
   ]
  },
  {
   "cell_type": "markdown",
   "metadata": {},
   "source": [
    "# Multilayer network\n",
    "Next you will implement a fully-connected network with an arbitrary number of hidden layers.\n",
    "\n",
    "Read through the `FullyConnectedNet` class in the file `cs231n/classifiers/fc_net.py`.\n",
    "\n",
    "Implement the initialization, the forward pass, and the backward pass. For the moment don't worry about implementing dropout or batch/layer normalization; we will add those features soon."
   ]
  },
  {
   "cell_type": "markdown",
   "metadata": {},
   "source": [
    "## Initial loss and gradient check\n",
    "\n",
    "As a sanity check, run the following to check the initial loss and to gradient check the network both with and without regularization. Do the initial losses seem reasonable?\n",
    "\n",
    "For gradient checking, you should expect to see errors around 1e-7 or less."
   ]
  },
  {
   "cell_type": "code",
   "execution_count": 14,
   "metadata": {
    "ExecuteTime": {
     "end_time": "2019-09-25T05:50:26.609510Z",
     "start_time": "2019-09-25T05:50:25.826608Z"
    }
   },
   "outputs": [
    {
     "name": "stdout",
     "output_type": "stream",
     "text": [
      "Running check with reg =  0\n",
      "Initial loss:  3.7636484472792726\n",
      "W1 relative error: 2.12e-08\n",
      "W2 relative error: 8.39e-07\n",
      "W3 relative error: 3.44e-08\n",
      "b1 relative error: 5.38e-09\n",
      "b2 relative error: 2.09e-09\n",
      "b3 relative error: 5.80e-11\n",
      "Running check with reg =  3.14\n",
      "Initial loss:  3.814535655506903\n",
      "W1 relative error: 5.56e-08\n",
      "W2 relative error: 7.65e-08\n",
      "W3 relative error: 6.81e-08\n",
      "b1 relative error: 1.48e-08\n",
      "b2 relative error: 1.72e-09\n",
      "b3 relative error: 1.80e-10\n"
     ]
    }
   ],
   "source": [
    "np.random.seed(231)\n",
    "N, D, H1, H2, C = 2, 15, 20, 30, 10\n",
    "X = np.random.randn(N, D)\n",
    "y = np.random.randint(C, size=(N,))\n",
    "\n",
    "for reg in [0, 3.14]:\n",
    "  print('Running check with reg = ', reg)\n",
    "  model = FullyConnectedNet([H1, H2], input_dim=D, num_classes=C,\n",
    "                            reg=reg, weight_scale=5e-2, dtype=np.float64)\n",
    "\n",
    "  loss, grads = model.loss(X, y)\n",
    "  print('Initial loss: ', loss)\n",
    "  \n",
    "  # Most of the errors should be on the order of e-7 or smaller.   \n",
    "  # NOTE: It is fine however to see an error for W2 on the order of e-5\n",
    "  # for the check when reg = 0.0\n",
    "  for name in sorted(grads):\n",
    "    f = lambda _: model.loss(X, y)[0]\n",
    "    grad_num = eval_numerical_gradient(f, model.params[name], verbose=False, h=1e-5)\n",
    "    print('%s relative error: %.2e' % (name, rel_error(grad_num, grads[name])))"
   ]
  },
  {
   "cell_type": "markdown",
   "metadata": {},
   "source": [
    "As another sanity check, make sure you can overfit a small dataset of 50 images. First we will try a three-layer network with 100 units in each hidden layer. In the following cell, tweak the **learning rate** and **weight initialization scale** to overfit and achieve 100% training accuracy within 20 epochs."
   ]
  },
  {
   "cell_type": "code",
   "execution_count": 65,
   "metadata": {
    "ExecuteTime": {
     "end_time": "2019-09-25T06:32:21.623468Z",
     "start_time": "2019-09-25T06:32:21.045551Z"
    },
    "scrolled": false
   },
   "outputs": [
    {
     "name": "stdout",
     "output_type": "stream",
     "text": [
      "(Iteration 1 / 40) loss: 436.932134\n",
      "(Epoch 0 / 20) train acc: 0.320000; val_acc: 0.109000\n",
      "(Epoch 1 / 20) train acc: 0.320000; val_acc: 0.114000\n",
      "(Epoch 2 / 20) train acc: 0.520000; val_acc: 0.117000\n",
      "(Epoch 3 / 20) train acc: 0.620000; val_acc: 0.127000\n",
      "(Epoch 4 / 20) train acc: 0.780000; val_acc: 0.117000\n",
      "(Epoch 5 / 20) train acc: 0.840000; val_acc: 0.123000\n",
      "(Iteration 11 / 40) loss: 389.780721\n",
      "(Epoch 6 / 20) train acc: 0.940000; val_acc: 0.130000\n",
      "(Epoch 7 / 20) train acc: 0.940000; val_acc: 0.121000\n",
      "(Epoch 8 / 20) train acc: 0.980000; val_acc: 0.121000\n",
      "(Epoch 9 / 20) train acc: 1.000000; val_acc: 0.126000\n",
      "(Epoch 10 / 20) train acc: 1.000000; val_acc: 0.126000\n",
      "(Iteration 21 / 40) loss: 380.994524\n",
      "(Epoch 11 / 20) train acc: 1.000000; val_acc: 0.125000\n",
      "(Epoch 12 / 20) train acc: 1.000000; val_acc: 0.126000\n",
      "(Epoch 13 / 20) train acc: 1.000000; val_acc: 0.126000\n",
      "(Epoch 14 / 20) train acc: 1.000000; val_acc: 0.126000\n",
      "(Epoch 15 / 20) train acc: 1.000000; val_acc: 0.126000\n",
      "(Iteration 31 / 40) loss: 373.445855\n",
      "(Epoch 16 / 20) train acc: 1.000000; val_acc: 0.126000\n",
      "(Epoch 17 / 20) train acc: 1.000000; val_acc: 0.126000\n",
      "(Epoch 18 / 20) train acc: 1.000000; val_acc: 0.126000\n",
      "(Epoch 19 / 20) train acc: 1.000000; val_acc: 0.126000\n",
      "(Epoch 20 / 20) train acc: 1.000000; val_acc: 0.126000\n"
     ]
    },
    {
     "data": {
      "image/png": "[encoded data removed]",
      "text/plain": [
       "<Figure size 720x576 with 1 Axes>"
      ]
     },
     "metadata": {
      "needs_background": "light"
     },
     "output_type": "display_data"
    }
   ],
   "source": [
    "# TODO: Use a three-layer Net to overfit 50 training examples by \n",
    "# tweaking just the learning rate and initialization scale.\n",
    "\n",
    "num_train = 50\n",
    "small_data = {\n",
    "  'X_train': data['X_train'][:num_train],\n",
    "  'y_train': data['y_train'][:num_train],\n",
    "  'X_val': data['X_val'],\n",
    "  'y_val': data['y_val'],\n",
    "}\n",
    "\n",
    "weight_scale = 5e-2   # Experiment with this!\n",
    "learning_rate = 1e-3  # Experiment with this!\n",
    "model = FullyConnectedNet([100, 100],\n",
    "              weight_scale=weight_scale, dtype=np.float64)\n",
    "solver = Solver(model, small_data,\n",
    "                print_every=10, num_epochs=20, batch_size=25,\n",
    "                update_rule='sgd',\n",
    "                optim_config={\n",
    "                  'learning_rate': learning_rate,\n",
    "                }\n",
    "         )\n",
    "solver.train()\n",
    "\n",
    "plt.plot(solver.loss_history, 'o')\n",
    "plt.title('Training loss history')\n",
    "plt.xlabel('Iteration')\n",
    "plt.ylabel('Training loss')\n",
    "plt.show()"
   ]
  },
  {
   "cell_type": "markdown",
   "metadata": {},
   "source": [
    "Now try to use a five-layer network with 100 units on each layer to overfit 50 training examples. Again, you will have to adjust the learning rate and weight initialization scale, but you should be able to achieve 100% training accuracy within 20 epochs."
   ]
  },
  {
   "cell_type": "code",
   "execution_count": 70,
   "metadata": {
    "ExecuteTime": {
     "end_time": "2019-09-25T06:33:19.641029Z",
     "start_time": "2019-09-25T06:33:19.005636Z"
    }
   },
   "outputs": [
    {
     "name": "stdout",
     "output_type": "stream",
     "text": [
      "(Iteration 1 / 40) loss: 1837.916029\n",
      "(Epoch 0 / 20) train acc: 0.120000; val_acc: 0.086000\n",
      "(Epoch 1 / 20) train acc: 0.220000; val_acc: 0.094000\n",
      "(Epoch 2 / 20) train acc: 0.460000; val_acc: 0.088000\n",
      "(Epoch 3 / 20) train acc: 0.660000; val_acc: 0.099000\n",
      "(Epoch 4 / 20) train acc: 0.740000; val_acc: 0.096000\n",
      "(Epoch 5 / 20) train acc: 0.880000; val_acc: 0.086000\n",
      "(Iteration 11 / 40) loss: 1661.323379\n",
      "(Epoch 6 / 20) train acc: 0.960000; val_acc: 0.084000\n",
      "(Epoch 7 / 20) train acc: 0.960000; val_acc: 0.087000\n",
      "(Epoch 8 / 20) train acc: 0.980000; val_acc: 0.085000\n",
      "(Epoch 9 / 20) train acc: 1.000000; val_acc: 0.087000\n",
      "(Epoch 10 / 20) train acc: 1.000000; val_acc: 0.086000\n",
      "(Iteration 21 / 40) loss: 1628.197788\n",
      "(Epoch 11 / 20) train acc: 1.000000; val_acc: 0.086000\n",
      "(Epoch 12 / 20) train acc: 1.000000; val_acc: 0.086000\n",
      "(Epoch 13 / 20) train acc: 1.000000; val_acc: 0.086000\n",
      "(Epoch 14 / 20) train acc: 1.000000; val_acc: 0.086000\n",
      "(Epoch 15 / 20) train acc: 1.000000; val_acc: 0.086000\n",
      "(Iteration 31 / 40) loss: 1595.939446\n",
      "(Epoch 16 / 20) train acc: 1.000000; val_acc: 0.086000\n",
      "(Epoch 17 / 20) train acc: 1.000000; val_acc: 0.086000\n",
      "(Epoch 18 / 20) train acc: 1.000000; val_acc: 0.086000\n",
      "(Epoch 19 / 20) train acc: 1.000000; val_acc: 0.086000\n",
      "(Epoch 20 / 20) train acc: 1.000000; val_acc: 0.086000\n"
     ]
    },
    {
     "data": {
      "image/png": "[encoded data removed]",
      "text/plain": [
       "<Figure size 720x576 with 1 Axes>"
      ]
     },
     "metadata": {
      "needs_background": "light"
     },
     "output_type": "display_data"
    }
   ],
   "source": [
    "# TODO: Use a five-layer Net to overfit 50 training examples by \n",
    "# tweaking just the learning rate and initialization scale.\n",
    "\n",
    "num_train = 50\n",
    "small_data = {\n",
    "  'X_train': data['X_train'][:num_train],\n",
    "  'y_train': data['y_train'][:num_train],\n",
    "  'X_val': data['X_val'],\n",
    "  'y_val': data['y_val'],\n",
    "}\n",
    "\n",
    "learning_rate = 1e-3  # Experiment with this!\n",
    "weight_scale = 1e-1   # Experiment with this!\n",
    "model = FullyConnectedNet([100, 100, 100, 100],\n",
    "                weight_scale=weight_scale, dtype=np.float64)\n",
    "solver = Solver(model, small_data,\n",
    "                print_every=10, num_epochs=20, batch_size=25,\n",
    "                update_rule='sgd',\n",
    "                optim_config={\n",
    "                  'learning_rate': learning_rate,\n",
    "                }\n",
    "         )\n",
    "solver.train()\n",
    "\n",
    "plt.plot(solver.loss_history, 'o')\n",
    "plt.title('Training loss history')\n",
    "plt.xlabel('Iteration')\n",
    "plt.ylabel('Training loss')\n",
    "plt.show()"
   ]
  },
  {
   "cell_type": "markdown",
   "metadata": {
    "tags": [
     "pdf-inline"
    ]
   },
   "source": [
    "## Inline Question 2: \n",
    "Did you notice anything about the comparative difficulty of training the three-layer net vs training the five layer net? In particular, based on your experience, which network seemed more sensitive to the initialization scale? Why do you think that is the case?\n",
    "\n",
    "## Answer:\n",
    "[FILL THIS IN]\n"
   ]
  },
  {
   "cell_type": "markdown",
   "metadata": {},
   "source": [
    "# Update rules\n",
    "So far we have used vanilla stochastic gradient descent (SGD) as our update rule. More sophisticated update rules can make it easier to train deep networks. We will implement a few of the most commonly used update rules and compare them to vanilla SGD."
   ]
  },
  {
   "cell_type": "markdown",
   "metadata": {},
   "source": [
    "# SGD+Momentum\n",
    "Stochastic gradient descent with momentum is a widely used update rule that tends to make deep networks converge faster than vanilla stochastic gradient descent. See the Momentum Update section at http://cs231n.github.io/neural-networks-3/#sgd for more information.\n",
    "\n",
    "Open the file `cs231n/optim.py` and read the documentation at the top of the file to make sure you understand the API. Implement the SGD+momentum update rule in the function `sgd_momentum` and run the following to check your implementation. You should see errors less than e-8."
   ]
  },
  {
   "cell_type": "code",
   "execution_count": 72,
   "metadata": {
    "ExecuteTime": {
     "end_time": "2019-09-25T06:55:45.063932Z",
     "start_time": "2019-09-25T06:55:45.034095Z"
    }
   },
   "outputs": [
    {
     "name": "stdout",
     "output_type": "stream",
     "text": [
      "next_w error:  8.882347033505819e-09\n",
      "velocity error:  4.269287743278663e-09\n"
     ]
    }
   ],
   "source": [
    "from cs231n.optim import sgd_momentum\n",
    "\n",
    "N, D = 4, 5\n",
    "w = np.linspace(-0.4, 0.6, num=N*D).reshape(N, D)\n",
    "dw = np.linspace(-0.6, 0.4, num=N*D).reshape(N, D)\n",
    "v = np.linspace(0.6, 0.9, num=N*D).reshape(N, D)\n",
    "\n",
    "config = {'learning_rate': 1e-3, 'velocity': v}\n",
    "next_w, _ = sgd_momentum(w, dw, config=config)\n",
    "\n",
    "expected_next_w = np.asarray([\n",
    "  [ 0.1406,      0.20738947,  0.27417895,  0.34096842,  0.40775789],\n",
    "  [ 0.47454737,  0.54133684,  0.60812632,  0.67491579,  0.74170526],\n",
    "  [ 0.80849474,  0.87528421,  0.94207368,  1.00886316,  1.07565263],\n",
    "  [ 1.14244211,  1.20923158,  1.27602105,  1.34281053,  1.4096    ]])\n",
    "expected_velocity = np.asarray([\n",
    "  [ 0.5406,      0.55475789,  0.56891579, 0.58307368,  0.59723158],\n",
    "  [ 0.61138947,  0.62554737,  0.63970526,  0.65386316,  0.66802105],\n",
    "  [ 0.68217895,  0.69633684,  0.71049474,  0.72465263,  0.73881053],\n",
    "  [ 0.75296842,  0.76712632,  0.78128421,  0.79544211,  0.8096    ]])\n",
    "\n",
    "# Should see relative errors around e-8 or less\n",
    "print('next_w error: ', rel_error(next_w, expected_next_w))\n",
    "print('velocity error: ', rel_error(expected_velocity, config['velocity']))"
   ]
  },
  {
   "cell_type": "markdown",
   "metadata": {},
   "source": [
    "Once you have done so, run the following to train a six-layer network with both SGD and SGD+momentum. You should see the SGD+momentum update rule converge faster."
   ]
  },
  {
   "cell_type": "code",
   "execution_count": 73,
   "metadata": {
    "ExecuteTime": {
     "end_time": "2019-09-25T06:55:54.219518Z",
     "start_time": "2019-09-25T06:55:51.809349Z"
    },
    "scrolled": false
   },
   "outputs": [
    {
     "name": "stdout",
     "output_type": "stream",
     "text": [
      "running with  sgd\n",
      "(Iteration 1 / 200) loss: 438.650608\n",
      "(Epoch 0 / 5) train acc: 0.105000; val_acc: 0.112000\n",
      "(Iteration 11 / 200) loss: 396.544073\n",
      "(Iteration 21 / 200) loss: 358.883765\n",
      "(Iteration 31 / 200) loss: 324.882400\n",
      "(Epoch 1 / 5) train acc: 0.231000; val_acc: 0.188000\n",
      "(Iteration 41 / 200) loss: 294.099453\n",
      "(Iteration 51 / 200) loss: 266.265203\n",
      "(Iteration 61 / 200) loss: 241.098162\n",
      "(Iteration 71 / 200) loss: 218.348034\n",
      "(Epoch 2 / 5) train acc: 0.250000; val_acc: 0.203000\n",
      "(Iteration 81 / 200) loss: 197.769966\n",
      "(Iteration 91 / 200) loss: 179.132302\n",
      "(Iteration 101 / 200) loss: 162.267747\n",
      "(Iteration 111 / 200) loss: 147.026445\n",
      "(Epoch 3 / 5) train acc: 0.231000; val_acc: 0.216000\n",
      "(Iteration 121 / 200) loss: 133.237422\n",
      "(Iteration 131 / 200) loss: 120.755259\n",
      "(Iteration 141 / 200) loss: 109.469323\n",
      "(Iteration 151 / 200) loss: 99.248397\n",
      "(Epoch 4 / 5) train acc: 0.238000; val_acc: 0.233000\n",
      "(Iteration 161 / 200) loss: 90.006915\n",
      "(Iteration 171 / 200) loss: 81.645950\n",
      "(Iteration 181 / 200) loss: 74.084997\n",
      "(Iteration 191 / 200) loss: 67.237483\n",
      "(Epoch 5 / 5) train acc: 0.230000; val_acc: 0.235000\n",
      "\n",
      "running with  sgd_momentum\n",
      "(Iteration 1 / 200) loss: 437.661879\n",
      "(Epoch 0 / 5) train acc: 0.103000; val_acc: 0.103000\n",
      "(Iteration 11 / 200) loss: 281.942108\n",
      "(Iteration 21 / 200) loss: 103.693492\n",
      "(Iteration 31 / 200) loss: 23.567772\n",
      "(Epoch 1 / 5) train acc: 0.093000; val_acc: 0.102000\n",
      "(Iteration 41 / 200) loss: 3.927095\n",
      "(Iteration 51 / 200) loss: 2.396048\n",
      "(Iteration 61 / 200) loss: 2.861871\n",
      "(Iteration 71 / 200) loss: 2.749233\n",
      "(Epoch 2 / 5) train acc: 0.103000; val_acc: 0.078000\n",
      "(Iteration 81 / 200) loss: 2.488917\n",
      "(Iteration 91 / 200) loss: 2.348593\n",
      "(Iteration 101 / 200) loss: 2.309444\n",
      "(Iteration 111 / 200) loss: 2.296260\n",
      "(Epoch 3 / 5) train acc: 0.088000; val_acc: 0.078000\n",
      "(Iteration 121 / 200) loss: 2.299243\n",
      "(Iteration 131 / 200) loss: 2.304178\n",
      "(Iteration 141 / 200) loss: 2.303506\n",
      "(Iteration 151 / 200) loss: 2.302425\n",
      "(Epoch 4 / 5) train acc: 0.115000; val_acc: 0.078000\n",
      "(Iteration 161 / 200) loss: 2.300986\n",
      "(Iteration 171 / 200) loss: 2.301980\n",
      "(Iteration 181 / 200) loss: 2.298195\n",
      "(Iteration 191 / 200) loss: 2.303171\n",
      "(Epoch 5 / 5) train acc: 0.123000; val_acc: 0.078000\n",
      "\n"
     ]
    },
    {
     "name": "stderr",
     "output_type": "stream",
     "text": [
      "/usr/local/miniconda3/envs/dl/lib/python3.6/site-packages/matplotlib/figure.py:98: MatplotlibDeprecationWarning: \n",
      "Adding an axes using the same arguments as a previous axes currently reuses the earlier instance.  In a future version, a new instance will always be created and returned.  Meanwhile, this warning can be suppressed, and the future behavior ensured, by passing a unique label to each axes instance.\n",
      "  \"Adding an axes using the same arguments as a previous axes \"\n"
     ]
    },
    {
     "data": {
      "image/png": "[encoded data removed]",
      "text/plain": [
       "<Figure size 1080x1080 with 3 Axes>"
      ]
     },
     "metadata": {
      "needs_background": "light"
     },
     "output_type": "display_data"
    }
   ],
   "source": [
    "num_train = 4000\n",
    "small_data = {\n",
    "  'X_train': data['X_train'][:num_train],\n",
    "  'y_train': data['y_train'][:num_train],\n",
    "  'X_val': data['X_val'],\n",
    "  'y_val': data['y_val'],\n",
    "}\n",
    "\n",
    "solvers = {}\n",
    "\n",
    "for update_rule in ['sgd', 'sgd_momentum']:\n",
    "  print('running with ', update_rule)\n",
    "  model = FullyConnectedNet([100, 100, 100, 100, 100], weight_scale=5e-2)\n",
    "\n",
    "  solver = Solver(model, small_data,\n",
    "                  num_epochs=5, batch_size=100,\n",
    "                  update_rule=update_rule,\n",
    "                  optim_config={\n",
    "                    'learning_rate': 5e-3,\n",
    "                  },\n",
    "                  verbose=True)\n",
    "  solvers[update_rule] = solver\n",
    "  solver.train()\n",
    "  print()\n",
    "\n",
    "plt.subplot(3, 1, 1)\n",
    "plt.title('Training loss')\n",
    "plt.xlabel('Iteration')\n",
    "\n",
    "plt.subplot(3, 1, 2)\n",
    "plt.title('Training accuracy')\n",
    "plt.xlabel('Epoch')\n",
    "\n",
    "plt.subplot(3, 1, 3)\n",
    "plt.title('Validation accuracy')\n",
    "plt.xlabel('Epoch')\n",
    "\n",
    "for update_rule, solver in solvers.items():\n",
    "  plt.subplot(3, 1, 1)\n",
    "  plt.plot(solver.loss_history, 'o', label=\"loss_%s\" % update_rule)\n",
    "  \n",
    "  plt.subplot(3, 1, 2)\n",
    "  plt.plot(solver.train_acc_history, '-o', label=\"train_acc_%s\" % update_rule)\n",
    "\n",
    "  plt.subplot(3, 1, 3)\n",
    "  plt.plot(solver.val_acc_history, '-o', label=\"val_acc_%s\" % update_rule)\n",
    "  \n",
    "for i in [1, 2, 3]:\n",
    "  plt.subplot(3, 1, i)\n",
    "  plt.legend(loc='upper center', ncol=4)\n",
    "plt.gcf().set_size_inches(15, 15)\n",
    "plt.show()"
   ]
  },
  {
   "cell_type": "markdown",
   "metadata": {},
   "source": [
    "# RMSProp and Adam\n",
    "RMSProp [1] and Adam [2] are update rules that set per-parameter learning rates by using a running average of the second moments of gradients.\n",
    "\n",
    "In the file `cs231n/optim.py`, implement the RMSProp update rule in the `rmsprop` function and implement the Adam update rule in the `adam` function, and check your implementations using the tests below.\n",
    "\n",
    "**NOTE:** Please implement the _complete_ Adam update rule (with the bias correction mechanism), not the first simplified version mentioned in the course notes. \n",
    "\n",
    "[1] Tijmen Tieleman and Geoffrey Hinton. \"Lecture 6.5-rmsprop: Divide the gradient by a running average of its recent magnitude.\" COURSERA: Neural Networks for Machine Learning 4 (2012).\n",
    "\n",
    "[2] Diederik Kingma and Jimmy Ba, \"Adam: A Method for Stochastic Optimization\", ICLR 2015."
   ]
  },
  {
   "cell_type": "code",
   "execution_count": 75,
   "metadata": {
    "ExecuteTime": {
     "end_time": "2019-09-25T07:23:59.435977Z",
     "start_time": "2019-09-25T07:23:59.410529Z"
    }
   },
   "outputs": [
    {
     "name": "stdout",
     "output_type": "stream",
     "text": [
      "next_w error:  9.524687511038133e-08\n",
      "cache error:  2.6477955807156126e-09\n"
     ]
    }
   ],
   "source": [
    "# Test RMSProp implementation\n",
    "from cs231n.optim import rmsprop\n",
    "\n",
    "N, D = 4, 5\n",
    "w = np.linspace(-0.4, 0.6, num=N*D).reshape(N, D)\n",
    "dw = np.linspace(-0.6, 0.4, num=N*D).reshape(N, D)\n",
    "cache = np.linspace(0.6, 0.9, num=N*D).reshape(N, D)\n",
    "\n",
    "config = {'learning_rate': 1e-2, 'cache': cache}\n",
    "next_w, _ = rmsprop(w, dw, config=config)\n",
    "\n",
    "expected_next_w = np.asarray([\n",
    "  [-0.39223849, -0.34037513, -0.28849239, -0.23659121, -0.18467247],\n",
    "  [-0.132737,   -0.08078555, -0.02881884,  0.02316247,  0.07515774],\n",
    "  [ 0.12716641,  0.17918792,  0.23122175,  0.28326742,  0.33532447],\n",
    "  [ 0.38739248,  0.43947102,  0.49155973,  0.54365823,  0.59576619]])\n",
    "expected_cache = np.asarray([\n",
    "  [ 0.5976,      0.6126277,   0.6277108,   0.64284931,  0.65804321],\n",
    "  [ 0.67329252,  0.68859723,  0.70395734,  0.71937285,  0.73484377],\n",
    "  [ 0.75037008,  0.7659518,   0.78158892,  0.79728144,  0.81302936],\n",
    "  [ 0.82883269,  0.84469141,  0.86060554,  0.87657507,  0.8926    ]])\n",
    "\n",
    "# You should see relative errors around e-7 or less\n",
    "print('next_w error: ', rel_error(expected_next_w, next_w))\n",
    "print('cache error: ', rel_error(expected_cache, config['cache']))"
   ]
  },
  {
   "cell_type": "code",
   "execution_count": 81,
   "metadata": {
    "ExecuteTime": {
     "end_time": "2019-09-25T07:36:16.910707Z",
     "start_time": "2019-09-25T07:36:16.873989Z"
    }
   },
   "outputs": [
    {
     "name": "stdout",
     "output_type": "stream",
     "text": [
      "next_w error:  1.1395691798535431e-07\n",
      "v error:  4.208314038113071e-09\n",
      "m error:  4.214963193114416e-09\n"
     ]
    }
   ],
   "source": [
    "# Test Adam implementation\n",
    "from cs231n.optim import adam\n",
    "\n",
    "N, D = 4, 5\n",
    "w = np.linspace(-0.4, 0.6, num=N*D).reshape(N, D)\n",
    "dw = np.linspace(-0.6, 0.4, num=N*D).reshape(N, D)\n",
    "m = np.linspace(0.6, 0.9, num=N*D).reshape(N, D)\n",
    "v = np.linspace(0.7, 0.5, num=N*D).reshape(N, D)\n",
    "\n",
    "config = {'learning_rate': 1e-2, 'm': m, 'v': v, 't': 5}\n",
    "next_w, _ = adam(w, dw, config=config)\n",
    "\n",
    "expected_next_w = np.asarray([\n",
    "  [-0.40094747, -0.34836187, -0.29577703, -0.24319299, -0.19060977],\n",
    "  [-0.1380274,  -0.08544591, -0.03286534,  0.01971428,  0.0722929],\n",
    "  [ 0.1248705,   0.17744702,  0.23002243,  0.28259667,  0.33516969],\n",
    "  [ 0.38774145,  0.44031188,  0.49288093,  0.54544852,  0.59801459]])\n",
    "expected_v = np.asarray([\n",
    "  [ 0.69966,     0.68908382,  0.67851319,  0.66794809,  0.65738853,],\n",
    "  [ 0.64683452,  0.63628604,  0.6257431,   0.61520571,  0.60467385,],\n",
    "  [ 0.59414753,  0.58362676,  0.57311152,  0.56260183,  0.55209767,],\n",
    "  [ 0.54159906,  0.53110598,  0.52061845,  0.51013645,  0.49966,   ]])\n",
    "expected_m = np.asarray([\n",
    "  [ 0.48,        0.49947368,  0.51894737,  0.53842105,  0.55789474],\n",
    "  [ 0.57736842,  0.59684211,  0.61631579,  0.63578947,  0.65526316],\n",
    "  [ 0.67473684,  0.69421053,  0.71368421,  0.73315789,  0.75263158],\n",
    "  [ 0.77210526,  0.79157895,  0.81105263,  0.83052632,  0.85      ]])\n",
    "\n",
    "# You should see relative errors around e-7 or less\n",
    "print('next_w error: ', rel_error(expected_next_w, next_w))\n",
    "print('v error: ', rel_error(expected_v, config['v']))\n",
    "print('m error: ', rel_error(expected_m, config['m']))"
   ]
  },
  {
   "cell_type": "markdown",
   "metadata": {},
   "source": [
    "Once you have debugged your RMSProp and Adam implementations, run the following to train a pair of deep networks using these new update rules:"
   ]
  },
  {
   "cell_type": "code",
   "execution_count": 82,
   "metadata": {
    "ExecuteTime": {
     "end_time": "2019-09-25T07:36:25.947331Z",
     "start_time": "2019-09-25T07:36:23.111237Z"
    }
   },
   "outputs": [
    {
     "name": "stdout",
     "output_type": "stream",
     "text": [
      "running with  adam\n",
      "(Iteration 1 / 200) loss: 440.077711\n",
      "(Epoch 0 / 5) train acc: 0.114000; val_acc: 0.130000\n",
      "(Iteration 11 / 200) loss: 319.153575\n",
      "(Iteration 21 / 200) loss: 229.226841\n",
      "(Iteration 31 / 200) loss: 164.077294\n",
      "(Epoch 1 / 5) train acc: 0.160000; val_acc: 0.167000\n",
      "(Iteration 41 / 200) loss: 117.643814\n",
      "(Iteration 51 / 200) loss: 84.756638\n",
      "(Iteration 61 / 200) loss: 61.427497\n",
      "(Iteration 71 / 200) loss: 44.832190\n",
      "(Epoch 2 / 5) train acc: 0.187000; val_acc: 0.140000\n",
      "(Iteration 81 / 200) loss: 32.992149\n",
      "(Iteration 91 / 200) loss: 24.499938\n",
      "(Iteration 101 / 200) loss: 18.394275\n",
      "(Iteration 111 / 200) loss: 13.993691\n",
      "(Epoch 3 / 5) train acc: 0.101000; val_acc: 0.078000\n",
      "(Iteration 121 / 200) loss: 10.808593\n",
      "(Iteration 131 / 200) loss: 8.504796\n",
      "(Iteration 141 / 200) loss: 6.834323\n",
      "(Iteration 151 / 200) loss: 5.611769\n",
      "(Epoch 4 / 5) train acc: 0.120000; val_acc: 0.078000\n",
      "(Iteration 161 / 200) loss: 4.727883\n",
      "(Iteration 171 / 200) loss: 4.080792\n",
      "(Iteration 181 / 200) loss: 3.608117\n",
      "(Iteration 191 / 200) loss: 3.262399\n",
      "(Epoch 5 / 5) train acc: 0.096000; val_acc: 0.079000\n",
      "\n",
      "running with  rmsprop\n",
      "(Iteration 1 / 200) loss: 436.944391\n",
      "(Epoch 0 / 5) train acc: 0.142000; val_acc: 0.157000\n",
      "(Iteration 11 / 200) loss: 372.658095\n",
      "(Iteration 21 / 200) loss: 342.949613\n",
      "(Iteration 31 / 200) loss: 320.870127\n",
      "(Epoch 1 / 5) train acc: 0.216000; val_acc: 0.231000\n",
      "(Iteration 41 / 200) loss: 303.003571\n",
      "(Iteration 51 / 200) loss: 287.672642\n",
      "(Iteration 61 / 200) loss: 274.114722\n",
      "(Iteration 71 / 200) loss: 261.879607\n",
      "(Epoch 2 / 5) train acc: 0.232000; val_acc: 0.240000\n",
      "(Iteration 81 / 200) loss: 250.725577\n",
      "(Iteration 91 / 200) loss: 240.496028\n",
      "(Iteration 101 / 200) loss: 230.879607\n",
      "(Iteration 111 / 200) loss: 221.914213\n",
      "(Epoch 3 / 5) train acc: 0.254000; val_acc: 0.253000\n",
      "(Iteration 121 / 200) loss: 213.515762\n",
      "(Iteration 131 / 200) loss: 205.534757\n",
      "(Iteration 141 / 200) loss: 197.936335\n",
      "(Iteration 151 / 200) loss: 190.730490\n",
      "(Epoch 4 / 5) train acc: 0.254000; val_acc: 0.264000\n",
      "(Iteration 161 / 200) loss: 183.893756\n",
      "(Iteration 171 / 200) loss: 177.326941\n",
      "(Iteration 181 / 200) loss: 171.074446\n",
      "(Iteration 191 / 200) loss: 165.053336\n",
      "(Epoch 5 / 5) train acc: 0.237000; val_acc: 0.247000\n",
      "\n"
     ]
    },
    {
     "data": {
      "image/png": "[encoded data removed]",
      "text/plain": [
       "<Figure size 1080x1080 with 3 Axes>"
      ]
     },
     "metadata": {
      "needs_background": "light"
     },
     "output_type": "display_data"
    }
   ],
   "source": [
    "learning_rates = {'rmsprop': 1e-4, 'adam': 1e-3}\n",
    "for update_rule in ['adam', 'rmsprop']:\n",
    "  print('running with ', update_rule)\n",
    "  model = FullyConnectedNet([100, 100, 100, 100, 100], weight_scale=5e-2)\n",
    "\n",
    "  solver = Solver(model, small_data,\n",
    "                  num_epochs=5, batch_size=100,\n",
    "                  update_rule=update_rule,\n",
    "                  optim_config={\n",
    "                    'learning_rate': learning_rates[update_rule]\n",
    "                  },\n",
    "                  verbose=True)\n",
    "  solvers[update_rule] = solver\n",
    "  solver.train()\n",
    "  print()\n",
    "\n",
    "plt.subplot(3, 1, 1)\n",
    "plt.title('Training loss')\n",
    "plt.xlabel('Iteration')\n",
    "\n",
    "plt.subplot(3, 1, 2)\n",
    "plt.title('Training accuracy')\n",
    "plt.xlabel('Epoch')\n",
    "\n",
    "plt.subplot(3, 1, 3)\n",
    "plt.title('Validation accuracy')\n",
    "plt.xlabel('Epoch')\n",
    "\n",
    "for update_rule, solver in list(solvers.items()):\n",
    "  plt.subplot(3, 1, 1)\n",
    "  plt.plot(solver.loss_history, 'o', label=update_rule)\n",
    "  \n",
    "  plt.subplot(3, 1, 2)\n",
    "  plt.plot(solver.train_acc_history, '-o', label=update_rule)\n",
    "\n",
    "  plt.subplot(3, 1, 3)\n",
    "  plt.plot(solver.val_acc_history, '-o', label=update_rule)\n",
    "  \n",
    "for i in [1, 2, 3]:\n",
    "  plt.subplot(3, 1, i)\n",
    "  plt.legend(loc='upper center', ncol=4)\n",
    "plt.gcf().set_size_inches(15, 15)\n",
    "plt.show()"
   ]
  },
  {
   "cell_type": "markdown",
   "metadata": {
    "tags": [
     "pdf-inline"
    ]
   },
   "source": [
    "## Inline Question 3:\n",
    "\n",
    "AdaGrad, like Adam, is a per-parameter optimization method that uses the following update rule:\n",
    "\n",
    "```\n",
    "cache += dw**2\n",
    "w += - learning_rate * dw / (np.sqrt(cache) + eps)\n",
    "```\n",
    "\n",
    "John notices that when he was training a network with AdaGrad that the updates became very small, and that his network was learning slowly. Using your knowledge of the AdaGrad update rule, why do you think the updates would become very small? Would Adam have the same issue?\n",
    "\n",
    "\n",
    "## Answer: \n",
    "[FILL THIS IN]\n"
   ]
  },
  {
   "cell_type": "markdown",
   "metadata": {},
   "source": [
    "# Train a good model!\n",
    "Train the best fully-connected model that you can on CIFAR-10, storing your best model in the `best_model` variable. We require you to get at least 50% accuracy on the validation set using a fully-connected net.\n",
    "\n",
    "If you are careful it should be possible to get accuracies above 55%, but we don't require it for this part and won't assign extra credit for doing so. Later in the assignment we will ask you to train the best convolutional network that you can on CIFAR-10, and we would prefer that you spend your effort working on convolutional nets rather than fully-connected nets.\n",
    "\n",
    "You might find it useful to complete the `BatchNormalization.ipynb` and `Dropout.ipynb` notebooks before completing this part, since those techniques can help you train powerful models."
   ]
  },
  {
   "cell_type": "code",
   "execution_count": 7,
   "metadata": {
    "ExecuteTime": {
     "end_time": "2019-09-25T15:22:01.595757Z",
     "start_time": "2019-09-25T15:16:36.879373Z"
    },
    "scrolled": false
   },
   "outputs": [
    {
     "name": "stdout",
     "output_type": "stream",
     "text": [
      "(Iteration 1 / 1146) loss: 2.306475\n",
      "(Epoch 0 / 3) train acc: 0.176000; val_acc: 0.204000\n",
      "(Iteration 101 / 1146) loss: 2.249231\n",
      "(Iteration 201 / 1146) loss: 2.196301\n",
      "(Iteration 301 / 1146) loss: 2.152147\n",
      "(Epoch 1 / 3) train acc: 0.248000; val_acc: 0.275000\n",
      "(Iteration 401 / 1146) loss: 2.129179\n",
      "(Iteration 501 / 1146) loss: 2.111456\n",
      "(Iteration 601 / 1146) loss: 2.020639\n",
      "(Iteration 701 / 1146) loss: 1.993288\n",
      "(Epoch 2 / 3) train acc: 0.297000; val_acc: 0.324000\n",
      "(Iteration 801 / 1146) loss: 1.989355\n",
      "(Iteration 901 / 1146) loss: 1.963417\n",
      "(Iteration 1001 / 1146) loss: 1.954168\n",
      "(Iteration 1101 / 1146) loss: 1.922151\n",
      "(Epoch 3 / 3) train acc: 0.289000; val_acc: 0.331000\n",
      "1e-05 0.0001 0.331\n",
      "(Iteration 1 / 1146) loss: 2.341251\n",
      "(Epoch 0 / 3) train acc: 0.183000; val_acc: 0.183000\n",
      "(Iteration 101 / 1146) loss: 2.258655\n",
      "(Iteration 201 / 1146) loss: 2.186898\n",
      "(Iteration 301 / 1146) loss: 2.135600\n",
      "(Epoch 1 / 3) train acc: 0.327000; val_acc: 0.357000\n",
      "(Iteration 401 / 1146) loss: 2.112043\n",
      "(Iteration 501 / 1146) loss: 2.042226\n",
      "(Iteration 601 / 1146) loss: 2.003466\n",
      "(Iteration 701 / 1146) loss: 2.004578\n",
      "(Epoch 2 / 3) train acc: 0.384000; val_acc: 0.397000\n",
      "(Iteration 801 / 1146) loss: 2.016075\n",
      "(Iteration 901 / 1146) loss: 1.994880\n",
      "(Iteration 1001 / 1146) loss: 1.907353\n",
      "(Iteration 1101 / 1146) loss: 1.876565\n",
      "(Epoch 3 / 3) train acc: 0.415000; val_acc: 0.408000\n",
      "1e-05 0.00031622776601683794 0.408\n",
      "(Iteration 1 / 1146) loss: 2.692198\n",
      "(Epoch 0 / 3) train acc: 0.137000; val_acc: 0.133000\n",
      "(Iteration 101 / 1146) loss: 2.380063\n",
      "(Iteration 201 / 1146) loss: 2.244155\n",
      "(Iteration 301 / 1146) loss: 2.155586\n",
      "(Epoch 1 / 3) train acc: 0.433000; val_acc: 0.422000\n",
      "(Iteration 401 / 1146) loss: 2.101393\n",
      "(Iteration 501 / 1146) loss: 2.047403\n",
      "(Iteration 601 / 1146) loss: 2.049303\n",
      "(Iteration 701 / 1146) loss: 1.991667\n",
      "(Epoch 2 / 3) train acc: 0.438000; val_acc: 0.433000\n",
      "(Iteration 801 / 1146) loss: 1.980860\n",
      "(Iteration 901 / 1146) loss: 1.986286\n",
      "(Iteration 1001 / 1146) loss: 1.942047\n",
      "(Iteration 1101 / 1146) loss: 1.920633\n",
      "(Epoch 3 / 3) train acc: 0.494000; val_acc: 0.458000\n",
      "1e-05 0.001 0.458\n",
      "(Iteration 1 / 1146) loss: 6.175239\n",
      "(Epoch 0 / 3) train acc: 0.105000; val_acc: 0.102000\n",
      "(Iteration 101 / 1146) loss: 4.732326\n",
      "(Iteration 201 / 1146) loss: 3.786367\n",
      "(Iteration 301 / 1146) loss: 3.177577\n",
      "(Epoch 1 / 3) train acc: 0.404000; val_acc: 0.405000\n",
      "(Iteration 401 / 1146) loss: 2.792585\n",
      "(Iteration 501 / 1146) loss: 2.552489\n",
      "(Iteration 601 / 1146) loss: 2.366766\n",
      "(Iteration 701 / 1146) loss: 2.242046\n",
      "(Epoch 2 / 3) train acc: 0.417000; val_acc: 0.459000\n",
      "(Iteration 801 / 1146) loss: 2.105484\n",
      "(Iteration 901 / 1146) loss: 2.145967\n",
      "(Iteration 1001 / 1146) loss: 2.075448\n",
      "(Iteration 1101 / 1146) loss: 1.960531\n",
      "(Epoch 3 / 3) train acc: 0.487000; val_acc: 0.475000\n",
      "1e-05 0.0031622776601683794 0.475\n",
      "(Iteration 1 / 1146) loss: 41.136427\n",
      "(Epoch 0 / 3) train acc: 0.078000; val_acc: 0.100000\n",
      "(Iteration 101 / 1146) loss: 35.555831\n",
      "(Iteration 201 / 1146) loss: 30.791633\n",
      "(Iteration 301 / 1146) loss: 26.745319\n",
      "(Epoch 1 / 3) train acc: 0.312000; val_acc: 0.315000\n",
      "(Iteration 401 / 1146) loss: 23.312113\n",
      "(Iteration 501 / 1146) loss: 20.415054\n",
      "(Iteration 601 / 1146) loss: 18.006128\n",
      "(Iteration 701 / 1146) loss: 15.797336\n",
      "(Epoch 2 / 3) train acc: 0.366000; val_acc: 0.356000\n",
      "(Iteration 801 / 1146) loss: 13.970535\n",
      "(Iteration 901 / 1146) loss: 12.405081\n",
      "(Iteration 1001 / 1146) loss: 11.085644\n",
      "(Iteration 1101 / 1146) loss: 9.945990\n",
      "(Epoch 3 / 3) train acc: 0.411000; val_acc: 0.402000\n",
      "1e-05 0.01 0.402\n",
      "(Iteration 1 / 1146) loss: 2.306470\n",
      "(Epoch 0 / 3) train acc: 0.122000; val_acc: 0.120000\n",
      "(Iteration 101 / 1146) loss: 2.186757\n",
      "(Iteration 201 / 1146) loss: 2.060915\n",
      "(Iteration 301 / 1146) loss: 2.080033\n",
      "(Epoch 1 / 3) train acc: 0.263000; val_acc: 0.292000\n",
      "(Iteration 401 / 1146) loss: 2.033559\n",
      "(Iteration 501 / 1146) loss: 1.948981\n",
      "(Iteration 601 / 1146) loss: 1.991331\n",
      "(Iteration 701 / 1146) loss: 1.973450\n",
      "(Epoch 2 / 3) train acc: 0.285000; val_acc: 0.293000\n",
      "(Iteration 801 / 1146) loss: 1.946522\n",
      "(Iteration 901 / 1146) loss: 2.034688\n",
      "(Iteration 1001 / 1146) loss: 1.905731\n",
      "(Iteration 1101 / 1146) loss: 2.045962\n",
      "(Epoch 3 / 3) train acc: 0.319000; val_acc: 0.315000\n",
      "3.1622776601683795e-05 0.0001 0.315\n",
      "(Iteration 1 / 1146) loss: 2.341620\n",
      "(Epoch 0 / 3) train acc: 0.186000; val_acc: 0.194000\n",
      "(Iteration 101 / 1146) loss: 2.160386\n",
      "(Iteration 201 / 1146) loss: 2.092156\n",
      "(Iteration 301 / 1146) loss: 2.001944\n",
      "(Epoch 1 / 3) train acc: 0.340000; val_acc: 0.330000\n",
      "(Iteration 401 / 1146) loss: 2.030619\n",
      "(Iteration 501 / 1146) loss: 1.958859\n",
      "(Iteration 601 / 1146) loss: 1.848106\n",
      "(Iteration 701 / 1146) loss: 1.867068\n",
      "(Epoch 2 / 3) train acc: 0.396000; val_acc: 0.385000\n",
      "(Iteration 801 / 1146) loss: 1.909856\n",
      "(Iteration 901 / 1146) loss: 1.913646\n",
      "(Iteration 1001 / 1146) loss: 1.959280\n",
      "(Iteration 1101 / 1146) loss: 1.830946\n",
      "(Epoch 3 / 3) train acc: 0.426000; val_acc: 0.426000\n",
      "3.1622776601683795e-05 0.00031622776601683794 0.426\n",
      "(Iteration 1 / 1146) loss: 2.690762\n",
      "(Epoch 0 / 3) train acc: 0.127000; val_acc: 0.141000\n",
      "(Iteration 101 / 1146) loss: 2.170702\n",
      "(Iteration 201 / 1146) loss: 2.057913\n",
      "(Iteration 301 / 1146) loss: 1.974155\n",
      "(Epoch 1 / 3) train acc: 0.328000; val_acc: 0.360000\n",
      "(Iteration 401 / 1146) loss: 2.032293\n",
      "(Iteration 501 / 1146) loss: 1.912594\n",
      "(Iteration 601 / 1146) loss: 1.947940\n",
      "(Iteration 701 / 1146) loss: 1.894920\n",
      "(Epoch 2 / 3) train acc: 0.380000; val_acc: 0.419000\n",
      "(Iteration 801 / 1146) loss: 1.900187\n",
      "(Iteration 901 / 1146) loss: 1.780637\n",
      "(Iteration 1001 / 1146) loss: 1.770311\n",
      "(Iteration 1101 / 1146) loss: 1.856346\n",
      "(Epoch 3 / 3) train acc: 0.456000; val_acc: 0.461000\n",
      "3.1622776601683795e-05 0.001 0.461\n",
      "(Iteration 1 / 1146) loss: 6.188238\n",
      "(Epoch 0 / 3) train acc: 0.135000; val_acc: 0.125000\n",
      "(Iteration 101 / 1146) loss: 3.080188\n",
      "(Iteration 201 / 1146) loss: 2.306159\n",
      "(Iteration 301 / 1146) loss: 2.071167\n",
      "(Epoch 1 / 3) train acc: 0.390000; val_acc: 0.410000\n",
      "(Iteration 401 / 1146) loss: 1.986974\n",
      "(Iteration 501 / 1146) loss: 1.990149\n",
      "(Iteration 601 / 1146) loss: 1.843332\n",
      "(Iteration 701 / 1146) loss: 1.901219\n",
      "(Epoch 2 / 3) train acc: 0.416000; val_acc: 0.451000\n",
      "(Iteration 801 / 1146) loss: 1.795144\n",
      "(Iteration 901 / 1146) loss: 1.942698\n",
      "(Iteration 1001 / 1146) loss: 1.925366\n",
      "(Iteration 1101 / 1146) loss: 1.906911\n",
      "(Epoch 3 / 3) train acc: 0.493000; val_acc: 0.458000\n",
      "3.1622776601683795e-05 0.0031622776601683794 0.458\n",
      "(Iteration 1 / 1146) loss: 41.166791\n",
      "(Epoch 0 / 3) train acc: 0.127000; val_acc: 0.106000\n",
      "(Iteration 101 / 1146) loss: 25.979155\n",
      "(Iteration 201 / 1146) loss: 16.818334\n",
      "(Iteration 301 / 1146) loss: 11.202231\n",
      "(Epoch 1 / 3) train acc: 0.364000; val_acc: 0.403000\n",
      "(Iteration 401 / 1146) loss: 7.740487\n",
      "(Iteration 501 / 1146) loss: 5.641304\n",
      "(Iteration 601 / 1146) loss: 4.315639\n",
      "(Iteration 701 / 1146) loss: 3.537117\n",
      "(Epoch 2 / 3) train acc: 0.447000; val_acc: 0.439000\n",
      "(Iteration 801 / 1146) loss: 3.060116\n",
      "(Iteration 901 / 1146) loss: 2.539121\n",
      "(Iteration 1001 / 1146) loss: 2.374295\n",
      "(Iteration 1101 / 1146) loss: 2.148548\n",
      "(Epoch 3 / 3) train acc: 0.511000; val_acc: 0.458000\n",
      "3.1622776601683795e-05 0.01 0.458\n",
      "(Iteration 1 / 1146) loss: 2.306470\n",
      "(Epoch 0 / 3) train acc: 0.116000; val_acc: 0.105000\n",
      "(Iteration 101 / 1146) loss: 2.148322\n",
      "(Iteration 201 / 1146) loss: 2.060188\n",
      "(Iteration 301 / 1146) loss: 2.011968\n",
      "(Epoch 1 / 3) train acc: 0.284000; val_acc: 0.295000\n",
      "(Iteration 401 / 1146) loss: 2.090272\n",
      "(Iteration 501 / 1146) loss: 2.032673\n",
      "(Iteration 601 / 1146) loss: 2.032574\n",
      "(Iteration 701 / 1146) loss: 2.063346\n",
      "(Epoch 2 / 3) train acc: 0.391000; val_acc: 0.371000\n",
      "(Iteration 801 / 1146) loss: 2.005537\n",
      "(Iteration 901 / 1146) loss: 1.911014\n",
      "(Iteration 1001 / 1146) loss: 2.175273\n",
      "(Iteration 1101 / 1146) loss: 1.997574\n",
      "(Epoch 3 / 3) train acc: 0.394000; val_acc: 0.404000\n",
      "0.0001 0.0001 0.404\n",
      "(Iteration 1 / 1146) loss: 2.341398\n",
      "(Epoch 0 / 3) train acc: 0.127000; val_acc: 0.122000\n",
      "(Iteration 101 / 1146) loss: 2.070473\n",
      "(Iteration 201 / 1146) loss: 2.141616\n",
      "(Iteration 301 / 1146) loss: 2.141278\n",
      "(Epoch 1 / 3) train acc: 0.289000; val_acc: 0.301000\n",
      "(Iteration 401 / 1146) loss: 2.015959\n",
      "(Iteration 501 / 1146) loss: 1.931675\n",
      "(Iteration 601 / 1146) loss: 2.023661\n",
      "(Iteration 701 / 1146) loss: 2.033085\n",
      "(Epoch 2 / 3) train acc: 0.357000; val_acc: 0.357000\n",
      "(Iteration 801 / 1146) loss: 2.002559\n"
     ]
    },
    {
     "name": "stdout",
     "output_type": "stream",
     "text": [
      "(Iteration 901 / 1146) loss: 1.964681\n",
      "(Iteration 1001 / 1146) loss: 1.989345\n",
      "(Iteration 1101 / 1146) loss: 1.984102\n",
      "(Epoch 3 / 3) train acc: 0.365000; val_acc: 0.386000\n",
      "0.0001 0.00031622776601683794 0.386\n",
      "(Iteration 1 / 1146) loss: 2.690881\n",
      "(Epoch 0 / 3) train acc: 0.121000; val_acc: 0.122000\n",
      "(Iteration 101 / 1146) loss: 2.110694\n",
      "(Iteration 201 / 1146) loss: 2.075691\n",
      "(Iteration 301 / 1146) loss: 2.010463\n",
      "(Epoch 1 / 3) train acc: 0.352000; val_acc: 0.345000\n",
      "(Iteration 401 / 1146) loss: 2.066486\n",
      "(Iteration 501 / 1146) loss: 1.976143\n",
      "(Iteration 601 / 1146) loss: 2.060181\n",
      "(Iteration 701 / 1146) loss: 2.092412\n",
      "(Epoch 2 / 3) train acc: 0.395000; val_acc: 0.409000\n",
      "(Iteration 801 / 1146) loss: 1.999187\n",
      "(Iteration 901 / 1146) loss: 2.063235\n",
      "(Iteration 1001 / 1146) loss: 1.990249\n",
      "(Iteration 1101 / 1146) loss: 2.007631\n",
      "(Epoch 3 / 3) train acc: 0.432000; val_acc: 0.436000\n",
      "0.0001 0.001 0.436\n",
      "(Iteration 1 / 1146) loss: 6.180638\n",
      "(Epoch 0 / 3) train acc: 0.098000; val_acc: 0.112000\n",
      "(Iteration 101 / 1146) loss: 2.205277\n",
      "(Iteration 201 / 1146) loss: 2.001152\n",
      "(Iteration 301 / 1146) loss: 2.094358\n",
      "(Epoch 1 / 3) train acc: 0.366000; val_acc: 0.393000\n",
      "(Iteration 401 / 1146) loss: 1.972415\n",
      "(Iteration 501 / 1146) loss: 1.945584\n",
      "(Iteration 601 / 1146) loss: 2.038303\n",
      "(Iteration 701 / 1146) loss: 2.006707\n",
      "(Epoch 2 / 3) train acc: 0.402000; val_acc: 0.443000\n",
      "(Iteration 801 / 1146) loss: 1.959975\n",
      "(Iteration 901 / 1146) loss: 2.064359\n",
      "(Iteration 1001 / 1146) loss: 1.984392\n",
      "(Iteration 1101 / 1146) loss: 1.997737\n",
      "(Epoch 3 / 3) train acc: 0.416000; val_acc: 0.414000\n",
      "0.0001 0.0031622776601683794 0.443\n",
      "(Iteration 1 / 1146) loss: 41.080410\n",
      "(Epoch 0 / 3) train acc: 0.099000; val_acc: 0.093000\n",
      "(Iteration 101 / 1146) loss: 10.035533\n",
      "(Iteration 201 / 1146) loss: 3.804983\n",
      "(Iteration 301 / 1146) loss: 2.535549\n",
      "(Epoch 1 / 3) train acc: 0.407000; val_acc: 0.403000\n",
      "(Iteration 401 / 1146) loss: 2.088939\n",
      "(Iteration 501 / 1146) loss: 1.977948\n",
      "(Iteration 601 / 1146) loss: 2.082444\n",
      "(Iteration 701 / 1146) loss: 1.986128\n",
      "(Epoch 2 / 3) train acc: 0.397000; val_acc: 0.392000\n",
      "(Iteration 801 / 1146) loss: 2.052171\n",
      "(Iteration 901 / 1146) loss: 1.863321\n",
      "(Iteration 1001 / 1146) loss: 2.021129\n",
      "(Iteration 1101 / 1146) loss: 1.973269\n",
      "(Epoch 3 / 3) train acc: 0.444000; val_acc: 0.432000\n",
      "0.0001 0.01 0.432\n",
      "(Iteration 1 / 1146) loss: 2.306468\n",
      "(Epoch 0 / 3) train acc: 0.108000; val_acc: 0.100000\n",
      "(Iteration 101 / 1146) loss: 2.289055\n",
      "(Iteration 201 / 1146) loss: 2.284213\n",
      "(Iteration 301 / 1146) loss: 2.249512\n",
      "(Epoch 1 / 3) train acc: 0.290000; val_acc: 0.294000\n",
      "(Iteration 401 / 1146) loss: 2.196016\n",
      "(Iteration 501 / 1146) loss: 2.208965\n",
      "(Iteration 601 / 1146) loss: 2.269734\n",
      "(Iteration 701 / 1146) loss: 2.253635\n",
      "(Epoch 2 / 3) train acc: 0.342000; val_acc: 0.337000\n",
      "(Iteration 801 / 1146) loss: 2.123718\n",
      "(Iteration 901 / 1146) loss: 2.104478\n",
      "(Iteration 1001 / 1146) loss: 2.197365\n",
      "(Iteration 1101 / 1146) loss: 2.144940\n",
      "(Epoch 3 / 3) train acc: 0.337000; val_acc: 0.320000\n",
      "0.00031622776601683794 0.0001 0.337\n",
      "(Iteration 1 / 1146) loss: 2.341333\n",
      "(Epoch 0 / 3) train acc: 0.093000; val_acc: 0.107000\n",
      "(Iteration 101 / 1146) loss: 2.233294\n",
      "(Iteration 201 / 1146) loss: 2.292468\n",
      "(Iteration 301 / 1146) loss: 2.283224\n",
      "(Epoch 1 / 3) train acc: 0.320000; val_acc: 0.311000\n",
      "(Iteration 401 / 1146) loss: 2.206559\n",
      "(Iteration 501 / 1146) loss: 2.254627\n",
      "(Iteration 601 / 1146) loss: 2.190730\n",
      "(Iteration 701 / 1146) loss: 2.160198\n",
      "(Epoch 2 / 3) train acc: 0.293000; val_acc: 0.328000\n",
      "(Iteration 801 / 1146) loss: 2.149176\n",
      "(Iteration 901 / 1146) loss: 2.174421\n",
      "(Iteration 1001 / 1146) loss: 2.200954\n",
      "(Iteration 1101 / 1146) loss: 2.152447\n",
      "(Epoch 3 / 3) train acc: 0.338000; val_acc: 0.322000\n",
      "0.00031622776601683794 0.00031622776601683794 0.328\n",
      "(Iteration 1 / 1146) loss: 2.694055\n",
      "(Epoch 0 / 3) train acc: 0.101000; val_acc: 0.112000\n",
      "(Iteration 101 / 1146) loss: 2.326911\n",
      "(Iteration 201 / 1146) loss: 2.170432\n",
      "(Iteration 301 / 1146) loss: 2.186663\n",
      "(Epoch 1 / 3) train acc: 0.309000; val_acc: 0.311000\n",
      "(Iteration 401 / 1146) loss: 2.336781\n",
      "(Iteration 501 / 1146) loss: 2.220811\n",
      "(Iteration 601 / 1146) loss: 2.299179\n",
      "(Iteration 701 / 1146) loss: 2.225510\n",
      "(Epoch 2 / 3) train acc: 0.360000; val_acc: 0.332000\n",
      "(Iteration 801 / 1146) loss: 2.191916\n",
      "(Iteration 901 / 1146) loss: 2.183887\n",
      "(Iteration 1001 / 1146) loss: 2.146373\n",
      "(Iteration 1101 / 1146) loss: 2.195969\n",
      "(Epoch 3 / 3) train acc: 0.355000; val_acc: 0.346000\n",
      "0.00031622776601683794 0.001 0.346\n",
      "(Iteration 1 / 1146) loss: 6.179838\n",
      "(Epoch 0 / 3) train acc: 0.144000; val_acc: 0.157000\n",
      "(Iteration 101 / 1146) loss: 2.334829\n",
      "(Iteration 201 / 1146) loss: 2.215884\n",
      "(Iteration 301 / 1146) loss: 2.217443\n",
      "(Epoch 1 / 3) train acc: 0.299000; val_acc: 0.327000\n",
      "(Iteration 401 / 1146) loss: 2.277961\n",
      "(Iteration 501 / 1146) loss: 2.251974\n",
      "(Iteration 601 / 1146) loss: 2.208116\n",
      "(Iteration 701 / 1146) loss: 2.188822\n",
      "(Epoch 2 / 3) train acc: 0.322000; val_acc: 0.338000\n",
      "(Iteration 801 / 1146) loss: 2.213773\n",
      "(Iteration 901 / 1146) loss: 2.242785\n",
      "(Iteration 1001 / 1146) loss: 2.245463\n",
      "(Iteration 1101 / 1146) loss: 2.148578\n",
      "(Epoch 3 / 3) train acc: 0.335000; val_acc: 0.337000\n",
      "0.00031622776601683794 0.0031622776601683794 0.338\n",
      "(Iteration 1 / 1146) loss: 41.176254\n",
      "(Epoch 0 / 3) train acc: 0.106000; val_acc: 0.108000\n",
      "(Iteration 101 / 1146) loss: 2.424145\n",
      "(Iteration 201 / 1146) loss: 2.226159\n",
      "(Iteration 301 / 1146) loss: 2.201828\n",
      "(Epoch 1 / 3) train acc: 0.330000; val_acc: 0.330000\n",
      "(Iteration 401 / 1146) loss: 2.268614\n",
      "(Iteration 501 / 1146) loss: 2.169969\n",
      "(Iteration 601 / 1146) loss: 2.202491\n",
      "(Iteration 701 / 1146) loss: 2.286877\n",
      "(Epoch 2 / 3) train acc: 0.315000; val_acc: 0.317000\n",
      "(Iteration 801 / 1146) loss: 2.239039\n",
      "(Iteration 901 / 1146) loss: 2.226828\n",
      "(Iteration 1001 / 1146) loss: 2.230509\n",
      "(Iteration 1101 / 1146) loss: 2.170658\n",
      "(Epoch 3 / 3) train acc: 0.375000; val_acc: 0.356000\n",
      "0.00031622776601683794 0.01 0.356\n",
      "(Iteration 1 / 1146) loss: 2.306461\n",
      "(Epoch 0 / 3) train acc: 0.076000; val_acc: 0.085000\n",
      "(Iteration 101 / 1146) loss: 2.544986\n",
      "(Iteration 201 / 1146) loss: 2.474096\n",
      "(Iteration 301 / 1146) loss: 2.602606\n",
      "(Epoch 1 / 3) train acc: 0.220000; val_acc: 0.219000\n",
      "(Iteration 401 / 1146) loss: 2.664462\n",
      "(Iteration 501 / 1146) loss: 2.628756\n",
      "(Iteration 601 / 1146) loss: 2.635611\n",
      "(Iteration 701 / 1146) loss: 2.504997\n",
      "(Epoch 2 / 3) train acc: 0.271000; val_acc: 0.271000\n",
      "(Iteration 801 / 1146) loss: 2.553297\n",
      "(Iteration 901 / 1146) loss: 2.576337\n",
      "(Iteration 1001 / 1146) loss: 2.622672\n",
      "(Iteration 1101 / 1146) loss: 2.648395\n",
      "(Epoch 3 / 3) train acc: 0.297000; val_acc: 0.292000\n",
      "0.001 0.0001 0.292\n",
      "(Iteration 1 / 1146) loss: 2.341453\n",
      "(Epoch 0 / 3) train acc: 0.104000; val_acc: 0.107000\n",
      "(Iteration 101 / 1146) loss: 2.627954\n",
      "(Iteration 201 / 1146) loss: 2.661260\n",
      "(Iteration 301 / 1146) loss: 2.629090\n",
      "(Epoch 1 / 3) train acc: 0.216000; val_acc: 0.200000\n",
      "(Iteration 401 / 1146) loss: 2.504819\n",
      "(Iteration 501 / 1146) loss: 2.481068\n",
      "(Iteration 601 / 1146) loss: 2.551811\n",
      "(Iteration 701 / 1146) loss: 2.602084\n",
      "(Epoch 2 / 3) train acc: 0.255000; val_acc: 0.232000\n",
      "(Iteration 801 / 1146) loss: 2.591522\n",
      "(Iteration 901 / 1146) loss: 2.524475\n",
      "(Iteration 1001 / 1146) loss: 2.617474\n",
      "(Iteration 1101 / 1146) loss: 2.650111\n",
      "(Epoch 3 / 3) train acc: 0.279000; val_acc: 0.274000\n",
      "0.001 0.00031622776601683794 0.274\n",
      "(Iteration 1 / 1146) loss: 2.692019\n",
      "(Epoch 0 / 3) train acc: 0.112000; val_acc: 0.106000\n",
      "(Iteration 101 / 1146) loss: 2.468157\n",
      "(Iteration 201 / 1146) loss: 2.563823\n",
      "(Iteration 301 / 1146) loss: 2.550941\n",
      "(Epoch 1 / 3) train acc: 0.226000; val_acc: 0.233000\n",
      "(Iteration 401 / 1146) loss: 2.555091\n",
      "(Iteration 501 / 1146) loss: 2.533931\n",
      "(Iteration 601 / 1146) loss: 2.640997\n",
      "(Iteration 701 / 1146) loss: 2.695342\n",
      "(Epoch 2 / 3) train acc: 0.245000; val_acc: 0.246000\n",
      "(Iteration 801 / 1146) loss: 2.644887\n",
      "(Iteration 901 / 1146) loss: 2.431904\n",
      "(Iteration 1001 / 1146) loss: 2.499999\n",
      "(Iteration 1101 / 1146) loss: 2.502921\n",
      "(Epoch 3 / 3) train acc: 0.307000; val_acc: 0.305000\n",
      "0.001 0.001 0.305\n",
      "(Iteration 1 / 1146) loss: 6.190838\n",
      "(Epoch 0 / 3) train acc: 0.110000; val_acc: 0.124000\n",
      "(Iteration 101 / 1146) loss: 2.503167\n",
      "(Iteration 201 / 1146) loss: 2.561287\n",
      "(Iteration 301 / 1146) loss: 2.536674\n",
      "(Epoch 1 / 3) train acc: 0.230000; val_acc: 0.266000\n",
      "(Iteration 401 / 1146) loss: 2.501066\n"
     ]
    },
    {
     "name": "stdout",
     "output_type": "stream",
     "text": [
      "(Iteration 501 / 1146) loss: 2.605571\n",
      "(Iteration 601 / 1146) loss: 2.628129\n",
      "(Iteration 701 / 1146) loss: 2.534399\n",
      "(Epoch 2 / 3) train acc: 0.234000; val_acc: 0.222000\n",
      "(Iteration 801 / 1146) loss: 2.500045\n",
      "(Iteration 901 / 1146) loss: 2.499102\n",
      "(Iteration 1001 / 1146) loss: 2.427054\n",
      "(Iteration 1101 / 1146) loss: 2.525668\n",
      "(Epoch 3 / 3) train acc: 0.285000; val_acc: 0.275000\n",
      "0.001 0.0031622776601683794 0.275\n",
      "(Iteration 1 / 1146) loss: 41.123758\n",
      "(Epoch 0 / 3) train acc: 0.137000; val_acc: 0.150000\n",
      "(Iteration 101 / 1146) loss: 2.497412\n",
      "(Iteration 201 / 1146) loss: 2.511095\n",
      "(Iteration 301 / 1146) loss: 2.516015\n",
      "(Epoch 1 / 3) train acc: 0.257000; val_acc: 0.262000\n",
      "(Iteration 401 / 1146) loss: 2.430753\n",
      "(Iteration 501 / 1146) loss: 2.513129\n",
      "(Iteration 601 / 1146) loss: 2.663091\n",
      "(Iteration 701 / 1146) loss: 2.541577\n",
      "(Epoch 2 / 3) train acc: 0.246000; val_acc: 0.242000\n",
      "(Iteration 801 / 1146) loss: 2.468468\n",
      "(Iteration 901 / 1146) loss: 2.421354\n",
      "(Iteration 1001 / 1146) loss: 2.603465\n",
      "(Iteration 1101 / 1146) loss: 2.468806\n",
      "(Epoch 3 / 3) train acc: 0.274000; val_acc: 0.255000\n",
      "0.001 0.01 0.262\n",
      "best acc: 0.475\n"
     ]
    }
   ],
   "source": [
    "best_model = None\n",
    "################################################################################\n",
    "# TODO: Train the best FullyConnectedNet that you can on CIFAR-10. You might   #\n",
    "# find batch/layer normalization and dropout useful. Store your best model in  #\n",
    "# the best_model variable.                                                     #\n",
    "################################################################################\n",
    "# *****START OF YOUR CODE (DO NOT DELETE/MODIFY THIS LINE)*****\n",
    "\n",
    "hidden_dims = [200, 400, 200]\n",
    "lr = np.logspace(-5, -3, 5)\n",
    "ws = np.logspace(-4, -2, 5)\n",
    "\n",
    "best_acc = 0.0\n",
    "results = {}\n",
    "\n",
    "for learning_rate in lr:\n",
    "    for weight_scale in ws:\n",
    "        model = FullyConnectedNet(hidden_dims=hidden_dims, weight_scale=weight_scale, normalization='batchnorm')\n",
    "        solver = Solver(model, data, update_rule='adam', optim_config={'learning_rate': learning_rate}, \n",
    "                        lr_decay=0.95, num_epochs = 3, batch_size=128, print_every=100)\n",
    "        solver.train()\n",
    "\n",
    "        print(learning_rate, weight_scale, solver.best_val_acc)\n",
    "        results[(learning_rate, weight_scale)] = solver.best_val_acc\n",
    "        if solver.best_val_acc > best_acc:\n",
    "            best_acc = solver.best_val_acc\n",
    "            best_model = solver\n",
    "print('best acc: ' + str(best_acc))\n",
    "# *****END OF YOUR CODE (DO NOT DELETE/MODIFY THIS LINE)*****\n",
    "################################################################################\n",
    "#                              END OF YOUR CODE                                #\n",
    "################################################################################"
   ]
  },
  {
   "cell_type": "code",
   "execution_count": 8,
   "metadata": {
    "ExecuteTime": {
     "end_time": "2019-09-25T15:27:37.706495Z",
     "start_time": "2019-09-25T15:27:37.493195Z"
    }
   },
   "outputs": [
    {
     "data": {
      "image/png": "[encoded data removed]",
      "text/plain": [
       "<Figure size 432x288 with 2 Axes>"
      ]
     },
     "metadata": {
      "needs_background": "light"
     },
     "output_type": "display_data"
    }
   ],
   "source": [
    "# Visualize the cross-validation results\n",
    "import math\n",
    "x_scatter = [math.log10(x[0]) for x in results]\n",
    "y_scatter = [math.log10(x[1]) for x in results]\n",
    "\n",
    "# plot validation accuracy\n",
    "colors = [results[x] for x in results] # default size of markers is 20\n",
    "marker_size=20\n",
    "plt.scatter(x_scatter, y_scatter, marker_size, c=colors, cmap=plt.cm.coolwarm)\n",
    "plt.colorbar()\n",
    "plt.xlabel('log learning rate')\n",
    "plt.ylabel('log regularization strength')\n",
    "plt.title('CIFAR-10 validation accuracy')\n",
    "plt.show()"
   ]
  },
  {
   "cell_type": "code",
   "execution_count": 9,
   "metadata": {
    "ExecuteTime": {
     "end_time": "2019-09-25T15:29:19.059124Z",
     "start_time": "2019-09-25T15:29:18.829192Z"
    }
   },
   "outputs": [
    {
     "data": {
      "image/png": "[encoded data removed]",
      "text/plain": [
       "<Figure size 432x288 with 2 Axes>"
      ]
     },
     "metadata": {
      "needs_background": "light"
     },
     "output_type": "display_data"
    }
   ],
   "source": [
    "plt.subplot(2, 1, 1)\n",
    "plt.title('Training loss history')\n",
    "plt.plot(best_model.loss_history, 'o')\n",
    "plt.xlabel('Iteration')\n",
    "plt.ylabel('Training loss')\n",
    "\n",
    "plt.subplot(2, 1, 2)\n",
    "plt.title('Accuracy')\n",
    "plt.plot(best_model.train_acc_history, label='Training accuracy')\n",
    "plt.plot(best_model.val_acc_history, label='Validation accuracy')\n",
    "plt.xlabel('Epoch')\n",
    "plt.ylabel('Accuracy')\n",
    "\n",
    "plt.show()"
   ]
  },
  {
   "cell_type": "code",
   "execution_count": 3,
   "metadata": {
    "ExecuteTime": {
     "end_time": "2019-09-25T17:05:13.487105Z",
     "start_time": "2019-09-25T17:04:33.572167Z"
    }
   },
   "outputs": [
    {
     "name": "stdout",
     "output_type": "stream",
     "text": [
      "(Iteration 1 / 3438) loss: 2.496279\n",
      "(Epoch 0 / 9) train acc: 0.095000; val_acc: 0.101000\n",
      "(Iteration 101 / 3438) loss: 2.381728\n",
      "(Iteration 201 / 3438) loss: 2.293762\n",
      "(Iteration 301 / 3438) loss: 2.232505\n",
      "(Epoch 1 / 9) train acc: 0.432000; val_acc: 0.424000\n",
      "(Iteration 401 / 3438) loss: 2.152811\n",
      "(Iteration 501 / 3438) loss: 2.096578\n",
      "(Iteration 601 / 3438) loss: 2.069130\n",
      "(Iteration 701 / 3438) loss: 2.000011\n",
      "(Epoch 2 / 9) train acc: 0.452000; val_acc: 0.458000\n",
      "(Iteration 801 / 3438) loss: 1.920869\n",
      "(Iteration 901 / 3438) loss: 1.925816\n",
      "(Iteration 1001 / 3438) loss: 1.916280\n",
      "(Iteration 1101 / 3438) loss: 1.817588\n",
      "(Epoch 3 / 9) train acc: 0.503000; val_acc: 0.481000\n",
      "(Iteration 1201 / 3438) loss: 1.844813\n",
      "(Iteration 1301 / 3438) loss: 1.835657\n",
      "(Iteration 1401 / 3438) loss: 1.754833\n",
      "(Iteration 1501 / 3438) loss: 1.732587\n",
      "(Epoch 4 / 9) train acc: 0.529000; val_acc: 0.515000\n",
      "(Iteration 1601 / 3438) loss: 1.699050\n",
      "(Iteration 1701 / 3438) loss: 1.686594\n",
      "(Iteration 1801 / 3438) loss: 1.574130\n",
      "(Iteration 1901 / 3438) loss: 1.583440\n",
      "(Epoch 5 / 9) train acc: 0.544000; val_acc: 0.497000\n",
      "(Iteration 2001 / 3438) loss: 1.553927\n",
      "(Iteration 2101 / 3438) loss: 1.527005\n",
      "(Iteration 2201 / 3438) loss: 1.530673\n",
      "(Epoch 6 / 9) train acc: 0.575000; val_acc: 0.523000\n",
      "(Iteration 2301 / 3438) loss: 1.525362\n",
      "(Iteration 2401 / 3438) loss: 1.533204\n",
      "(Iteration 2501 / 3438) loss: 1.483156\n",
      "(Iteration 2601 / 3438) loss: 1.543562\n",
      "(Epoch 7 / 9) train acc: 0.576000; val_acc: 0.519000\n",
      "(Iteration 2701 / 3438) loss: 1.492943\n",
      "(Iteration 2801 / 3438) loss: 1.386357\n",
      "(Iteration 2901 / 3438) loss: 1.426860\n",
      "(Iteration 3001 / 3438) loss: 1.376999\n",
      "(Epoch 8 / 9) train acc: 0.578000; val_acc: 0.543000\n",
      "(Iteration 3101 / 3438) loss: 1.444125\n",
      "(Iteration 3201 / 3438) loss: 1.368553\n",
      "(Iteration 3301 / 3438) loss: 1.349075\n",
      "(Iteration 3401 / 3438) loss: 1.363908\n",
      "(Epoch 9 / 9) train acc: 0.624000; val_acc: 0.544000\n"
     ]
    },
    {
     "data": {
      "image/png": "[encoded data removed]",
      "text/plain": [
       "<Figure size 432x288 with 2 Axes>"
      ]
     },
     "metadata": {
      "needs_background": "light"
     },
     "output_type": "display_data"
    }
   ],
   "source": [
    "hidden_dims = [200, 400, 200]\n",
    "lr = 1e-05\n",
    "ws = 0.0031622776601683794\n",
    "\n",
    "model = FullyConnectedNet(hidden_dims=hidden_dims, reg=0.05, weight_scale=ws, normalization='batchnorm')\n",
    "solver = Solver(model, data, update_rule='adam', optim_config={'learning_rate': lr}, \n",
    "                lr_decay=0.95, num_epochs = 9, batch_size=128, print_every=100)\n",
    "solver.train()\n",
    "\n",
    "\n",
    "plt.subplot(2, 1, 1)\n",
    "plt.title('Training loss history')\n",
    "plt.plot(solver.loss_history, 'o')\n",
    "plt.xlabel('Iteration')\n",
    "plt.ylabel('Training loss')\n",
    "\n",
    "plt.subplot(2, 1, 2)\n",
    "plt.title('Accuracy')\n",
    "plt.plot(solver.train_acc_history, label='Training accuracy')\n",
    "plt.plot(solver.val_acc_history, label='Validation accuracy')\n",
    "plt.xlabel('Epoch')\n",
    "plt.ylabel('Accuracy')\n",
    "\n",
    "plt.show()"
   ]
  },
  {
   "cell_type": "markdown",
   "metadata": {},
   "source": [
    "# Test your model!\n",
    "Run your best model on the validation and test sets. You should achieve above 50% accuracy on the validation set."
   ]
  },
  {
   "cell_type": "code",
   "execution_count": 4,
   "metadata": {
    "ExecuteTime": {
     "end_time": "2019-09-25T17:05:47.893290Z",
     "start_time": "2019-09-25T17:05:47.839049Z"
    }
   },
   "outputs": [
    {
     "name": "stdout",
     "output_type": "stream",
     "text": [
      "Validation set accuracy:  0.544\n",
      "Test set accuracy:  0.532\n"
     ]
    }
   ],
   "source": [
    "best_model = model\n",
    "y_test_pred = np.argmax(best_model.loss(data['X_test']), axis=1)\n",
    "y_val_pred = np.argmax(best_model.loss(data['X_val']), axis=1)\n",
    "print('Validation set accuracy: ', (y_val_pred == data['y_val']).mean())\n",
    "print('Test set accuracy: ', (y_test_pred == data['y_test']).mean())"
   ]
  }
 ],
 "metadata": {
  "kernelspec": {
   "display_name": "Python 3",
   "language": "python",
   "name": "python3"
  },
  "language_info": {
   "codemirror_mode": {
    "name": "ipython",
    "version": 3
   },
   "file_extension": ".py",
   "mimetype": "text/x-python",
   "name": "python",
   "nbconvert_exporter": "python",
   "pygments_lexer": "ipython3",
   "version": "3.6.6"
  },
  "toc": {
   "base_numbering": 1,
   "nav_menu": {},
   "number_sections": true,
   "sideBar": true,
   "skip_h1_title": false,
   "title_cell": "Table of Contents",
   "title_sidebar": "Contents",
   "toc_cell": false,
   "toc_position": {},
   "toc_section_display": true,
   "toc_window_display": true
  },
  "varInspector": {
   "cols": {
    "lenName": 16,
    "lenType": 16,
    "lenVar": 40
   },
   "kernels_config": {
    "python": {
     "delete_cmd_postfix": "",
     "delete_cmd_prefix": "del ",
     "library": "var_list.py",
     "varRefreshCmd": "print(var_dic_list())"
    },
    "r": {
     "delete_cmd_postfix": ") ",
     "delete_cmd_prefix": "rm(",
     "library": "var_list.r",
     "varRefreshCmd": "cat(var_dic_list()) "
    }
   },
   "types_to_exclude": [
    "module",
    "function",
    "builtin_function_or_method",
    "instance",
    "_Feature"
   ],
   "window_display": false
  }
 },
 "nbformat": 4,
 "nbformat_minor": 2
}
